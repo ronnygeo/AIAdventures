{
  "nbformat": 4,
  "nbformat_minor": 0,
  "metadata": {
    "colab": {
      "name": "TF-RecSys-Retreival-Retrieval-Multi Task.ipynb",
      "provenance": [],
      "collapsed_sections": []
    },
    "kernelspec": {
      "name": "python3",
      "display_name": "Python 3"
    },
    "language_info": {
      "name": "python"
    },
    "accelerator": "GPU"
  },
  "cells": [
    {
      "cell_type": "code",
      "metadata": {
        "id": "GJljhKXlz1tU"
      },
      "source": [
        "!pip install -q tensorflow-recommenders"
      ],
      "execution_count": 1,
      "outputs": []
    },
    {
      "cell_type": "code",
      "metadata": {
        "id": "xZRCEV890D0u"
      },
      "source": [
        "from typing import Dict, Text\n",
        "\n",
        "import numpy as np\n",
        "import pandas as pd\n",
        "import tensorflow as tf\n",
        "from tensorflow import keras\n",
        "import tensorflow.keras.layers as L\n",
        "\n",
        "import tensorflow_recommenders as tfrs"
      ],
      "execution_count": 2,
      "outputs": []
    },
    {
      "cell_type": "code",
      "metadata": {
        "colab": {
          "base_uri": "https://localhost:8080/"
        },
        "id": "Wr4p-KLshtfl",
        "outputId": "fb4f57c5-35b5-49a9-adc9-3c996787fdd4"
      },
      "source": [
        "from google.colab import drive\n",
        "drive.mount('/content/drive')"
      ],
      "execution_count": 3,
      "outputs": [
        {
          "output_type": "stream",
          "text": [
            "Drive already mounted at /content/drive; to attempt to forcibly remount, call drive.mount(\"/content/drive\", force_remount=True).\n"
          ],
          "name": "stdout"
        }
      ]
    },
    {
      "cell_type": "markdown",
      "metadata": {
        "id": "5b1MuBRp7v6m"
      },
      "source": [
        "This steam dataset was obtained from kaggle\n",
        "\n",
        "https://www.kaggle.com/tamber/steam-video-games/version/1"
      ]
    },
    {
      "cell_type": "code",
      "metadata": {
        "colab": {
          "base_uri": "https://localhost:8080/",
          "height": 204
        },
        "id": "eHXDp29ai82e",
        "outputId": "aab9af1a-964c-41d8-bd6d-0798fafe2637"
      },
      "source": [
        "raw_data = pd.read_csv('/content/drive/My Drive/colab/data/steam-200k.csv', header=None).rename({0: \"user_id\", \n",
        "                                                                                             1: \"title\",\n",
        "                                                                                             2: \"action\",\n",
        "                                                                                             3: \"label\"}, axis=1)\n",
        "raw_data.head()"
      ],
      "execution_count": 4,
      "outputs": [
        {
          "output_type": "execute_result",
          "data": {
            "text/html": [
              "<div>\n",
              "<style scoped>\n",
              "    .dataframe tbody tr th:only-of-type {\n",
              "        vertical-align: middle;\n",
              "    }\n",
              "\n",
              "    .dataframe tbody tr th {\n",
              "        vertical-align: top;\n",
              "    }\n",
              "\n",
              "    .dataframe thead th {\n",
              "        text-align: right;\n",
              "    }\n",
              "</style>\n",
              "<table border=\"1\" class=\"dataframe\">\n",
              "  <thead>\n",
              "    <tr style=\"text-align: right;\">\n",
              "      <th></th>\n",
              "      <th>user_id</th>\n",
              "      <th>title</th>\n",
              "      <th>action</th>\n",
              "      <th>label</th>\n",
              "      <th>4</th>\n",
              "    </tr>\n",
              "  </thead>\n",
              "  <tbody>\n",
              "    <tr>\n",
              "      <th>0</th>\n",
              "      <td>151603712</td>\n",
              "      <td>The Elder Scrolls V Skyrim</td>\n",
              "      <td>purchase</td>\n",
              "      <td>1.0</td>\n",
              "      <td>0</td>\n",
              "    </tr>\n",
              "    <tr>\n",
              "      <th>1</th>\n",
              "      <td>151603712</td>\n",
              "      <td>The Elder Scrolls V Skyrim</td>\n",
              "      <td>play</td>\n",
              "      <td>273.0</td>\n",
              "      <td>0</td>\n",
              "    </tr>\n",
              "    <tr>\n",
              "      <th>2</th>\n",
              "      <td>151603712</td>\n",
              "      <td>Fallout 4</td>\n",
              "      <td>purchase</td>\n",
              "      <td>1.0</td>\n",
              "      <td>0</td>\n",
              "    </tr>\n",
              "    <tr>\n",
              "      <th>3</th>\n",
              "      <td>151603712</td>\n",
              "      <td>Fallout 4</td>\n",
              "      <td>play</td>\n",
              "      <td>87.0</td>\n",
              "      <td>0</td>\n",
              "    </tr>\n",
              "    <tr>\n",
              "      <th>4</th>\n",
              "      <td>151603712</td>\n",
              "      <td>Spore</td>\n",
              "      <td>purchase</td>\n",
              "      <td>1.0</td>\n",
              "      <td>0</td>\n",
              "    </tr>\n",
              "  </tbody>\n",
              "</table>\n",
              "</div>"
            ],
            "text/plain": [
              "     user_id                       title    action  label  4\n",
              "0  151603712  The Elder Scrolls V Skyrim  purchase    1.0  0\n",
              "1  151603712  The Elder Scrolls V Skyrim      play  273.0  0\n",
              "2  151603712                   Fallout 4  purchase    1.0  0\n",
              "3  151603712                   Fallout 4      play   87.0  0\n",
              "4  151603712                       Spore  purchase    1.0  0"
            ]
          },
          "metadata": {
            "tags": []
          },
          "execution_count": 4
        }
      ]
    },
    {
      "cell_type": "code",
      "metadata": {
        "colab": {
          "base_uri": "https://localhost:8080/",
          "height": 419
        },
        "id": "6z5r82HfjGvi",
        "outputId": "7edf903d-a176-4ec2-ab0b-1d45e25be4f0"
      },
      "source": [
        "play_data = raw_data[raw_data[\"action\"] == 'play'][[\"user_id\",\"title\", \"label\"]].drop_duplicates().astype(\"string\").rename({\"label\": \"play_duration\"}, axis=1)\n",
        "play_data[\"play_duration\"] = play_data.play_duration.astype(np.float32)\n",
        "\n",
        "data = play_data.fillna(0.0)\n",
        "data"
      ],
      "execution_count": 5,
      "outputs": [
        {
          "output_type": "execute_result",
          "data": {
            "text/html": [
              "<div>\n",
              "<style scoped>\n",
              "    .dataframe tbody tr th:only-of-type {\n",
              "        vertical-align: middle;\n",
              "    }\n",
              "\n",
              "    .dataframe tbody tr th {\n",
              "        vertical-align: top;\n",
              "    }\n",
              "\n",
              "    .dataframe thead th {\n",
              "        text-align: right;\n",
              "    }\n",
              "</style>\n",
              "<table border=\"1\" class=\"dataframe\">\n",
              "  <thead>\n",
              "    <tr style=\"text-align: right;\">\n",
              "      <th></th>\n",
              "      <th>user_id</th>\n",
              "      <th>title</th>\n",
              "      <th>play_duration</th>\n",
              "    </tr>\n",
              "  </thead>\n",
              "  <tbody>\n",
              "    <tr>\n",
              "      <th>1</th>\n",
              "      <td>151603712</td>\n",
              "      <td>The Elder Scrolls V Skyrim</td>\n",
              "      <td>273.0</td>\n",
              "    </tr>\n",
              "    <tr>\n",
              "      <th>3</th>\n",
              "      <td>151603712</td>\n",
              "      <td>Fallout 4</td>\n",
              "      <td>87.0</td>\n",
              "    </tr>\n",
              "    <tr>\n",
              "      <th>5</th>\n",
              "      <td>151603712</td>\n",
              "      <td>Spore</td>\n",
              "      <td>14.9</td>\n",
              "    </tr>\n",
              "    <tr>\n",
              "      <th>7</th>\n",
              "      <td>151603712</td>\n",
              "      <td>Fallout New Vegas</td>\n",
              "      <td>12.1</td>\n",
              "    </tr>\n",
              "    <tr>\n",
              "      <th>9</th>\n",
              "      <td>151603712</td>\n",
              "      <td>Left 4 Dead 2</td>\n",
              "      <td>8.9</td>\n",
              "    </tr>\n",
              "    <tr>\n",
              "      <th>...</th>\n",
              "      <td>...</td>\n",
              "      <td>...</td>\n",
              "      <td>...</td>\n",
              "    </tr>\n",
              "    <tr>\n",
              "      <th>199991</th>\n",
              "      <td>128470551</td>\n",
              "      <td>Fallen Earth</td>\n",
              "      <td>2.4</td>\n",
              "    </tr>\n",
              "    <tr>\n",
              "      <th>199993</th>\n",
              "      <td>128470551</td>\n",
              "      <td>Magic Duels</td>\n",
              "      <td>2.2</td>\n",
              "    </tr>\n",
              "    <tr>\n",
              "      <th>199995</th>\n",
              "      <td>128470551</td>\n",
              "      <td>Titan Souls</td>\n",
              "      <td>1.5</td>\n",
              "    </tr>\n",
              "    <tr>\n",
              "      <th>199997</th>\n",
              "      <td>128470551</td>\n",
              "      <td>Grand Theft Auto Vice City</td>\n",
              "      <td>1.5</td>\n",
              "    </tr>\n",
              "    <tr>\n",
              "      <th>199999</th>\n",
              "      <td>128470551</td>\n",
              "      <td>RUSH</td>\n",
              "      <td>1.4</td>\n",
              "    </tr>\n",
              "  </tbody>\n",
              "</table>\n",
              "<p>70489 rows × 3 columns</p>\n",
              "</div>"
            ],
            "text/plain": [
              "          user_id                       title  play_duration\n",
              "1       151603712  The Elder Scrolls V Skyrim          273.0\n",
              "3       151603712                   Fallout 4           87.0\n",
              "5       151603712                       Spore           14.9\n",
              "7       151603712           Fallout New Vegas           12.1\n",
              "9       151603712               Left 4 Dead 2            8.9\n",
              "...           ...                         ...            ...\n",
              "199991  128470551                Fallen Earth            2.4\n",
              "199993  128470551                 Magic Duels            2.2\n",
              "199995  128470551                 Titan Souls            1.5\n",
              "199997  128470551  Grand Theft Auto Vice City            1.5\n",
              "199999  128470551                        RUSH            1.4\n",
              "\n",
              "[70489 rows x 3 columns]"
            ]
          },
          "metadata": {
            "tags": []
          },
          "execution_count": 5
        }
      ]
    },
    {
      "cell_type": "code",
      "metadata": {
        "colab": {
          "base_uri": "https://localhost:8080/"
        },
        "id": "EIAwNm3E_MA4",
        "outputId": "cf2dbca2-f1d9-4d4b-c1c6-2f0cd65927c8"
      },
      "source": [
        "data.dtypes"
      ],
      "execution_count": 6,
      "outputs": [
        {
          "output_type": "execute_result",
          "data": {
            "text/plain": [
              "user_id           string\n",
              "title             string\n",
              "play_duration    float32\n",
              "dtype: object"
            ]
          },
          "metadata": {
            "tags": []
          },
          "execution_count": 6
        }
      ]
    },
    {
      "cell_type": "code",
      "metadata": {
        "colab": {
          "base_uri": "https://localhost:8080/"
        },
        "id": "sMBlLLbX15Qi",
        "outputId": "c9852131-ce09-4dd5-d9f5-6878c0e3efa4"
      },
      "source": [
        "data[(data[\"play_duration\"]== 0.0)].title.value_counts().head(5)"
      ],
      "execution_count": 7,
      "outputs": [
        {
          "output_type": "execute_result",
          "data": {
            "text/plain": [
              "Series([], Name: title, dtype: Int64)"
            ]
          },
          "metadata": {
            "tags": []
          },
          "execution_count": 7
        }
      ]
    },
    {
      "cell_type": "code",
      "metadata": {
        "id": "Rbb8CsMt2N75",
        "colab": {
          "base_uri": "https://localhost:8080/"
        },
        "outputId": "aa1ce01d-4488-41ce-fa8a-c28e1717fa16"
      },
      "source": [
        "members = tf.data.Dataset.from_tensors(tf.constant(data.user_id.unique()))\n",
        "movies = tf.data.Dataset.from_tensors(tf.constant(data.title.unique()))\n",
        "\n",
        "ratings = (tf.data.Dataset\n",
        "             .from_tensor_slices((tf.cast(data.user_id.values, tf.string), \n",
        "                                  tf.cast(data.title.values, tf.string),\n",
        "                                  tf.cast(data.play_duration.values, tf.float16)))\n",
        "              .map(lambda x1,x2,x3: {\n",
        "                                  \"user_id\": x1,\n",
        "                                  \"movie_title\": x2,\n",
        "                                  \"play_duration\": x3\n",
        "                                }\n",
        "                   )\n",
        "              .shuffle(buffer_size=200000))\n",
        "\n",
        "train_ratings = ratings.take(60000).batch(8000)\n",
        "test_ratings = ratings.skip(60000).batch(5000)\n",
        "\n",
        "for row in test_ratings.batch(1).take(1):\n",
        "  print(row)"
      ],
      "execution_count": 29,
      "outputs": [
        {
          "output_type": "stream",
          "text": [
            "{'user_id': <tf.Tensor: shape=(1, 5000), dtype=string, numpy=\n",
            "array([[b'163432200', b'101695880', b'77214425', ..., b'39361297',\n",
            "        b'94851051', b'105384518']], dtype=object)>, 'movie_title': <tf.Tensor: shape=(1, 5000), dtype=string, numpy=\n",
            "array([[b'Creativerse', b'Robocraft', b'Crysis 2 Maximum Edition', ...,\n",
            "        b'Cannons Lasers Rockets', b'H1Z1', b'Mars War Logs']],\n",
            "      dtype=object)>, 'play_duration': <tf.Tensor: shape=(1, 5000), dtype=float16, numpy=array([[36. ,  0.1, 29. , ...,  0.1, 10.3,  1. ]], dtype=float16)>}\n"
          ],
          "name": "stdout"
        }
      ]
    },
    {
      "cell_type": "code",
      "metadata": {
        "id": "ZYSRRwrewYU7"
      },
      "source": [
        "EMBEDDING_SIZE = 16\n",
        "MAX_TOKENS = 10_000"
      ],
      "execution_count": 30,
      "outputs": []
    },
    {
      "cell_type": "code",
      "metadata": {
        "id": "rlfcHVTQjTYz"
      },
      "source": [
        "member_vocabulary = L.experimental.preprocessing.StringLookup()\n",
        "member_vocabulary.adapt(members)\n",
        "\n",
        "movie_titles_vocabulary = L.experimental.preprocessing.StringLookup(mask_token=None)\n",
        "movie_titles_vocabulary.adapt(movies)"
      ],
      "execution_count": 31,
      "outputs": []
    },
    {
      "cell_type": "code",
      "metadata": {
        "id": "BVGG2XNIwO8a"
      },
      "source": [
        "class MovieModel(tf.keras.Model):\n",
        "\n",
        "  def __init__(self, max_tokens=MAX_TOKENS):\n",
        "    super().__init__()\n",
        "\n",
        "    self.title_embedding = tf.keras.Sequential([\n",
        "        movie_titles_vocabulary,\n",
        "        tf.keras.layers.Embedding(movie_titles_vocabulary.vocab_size(), EMBEDDING_SIZE)\n",
        "    ])\n",
        "    self.title_text_embedding = tf.keras.Sequential([\n",
        "      tf.keras.layers.experimental.preprocessing.TextVectorization(max_tokens=max_tokens),\n",
        "      tf.keras.layers.Embedding(max_tokens, EMBEDDING_SIZE, mask_zero=True),\n",
        "      # We average the embedding of individual words to get one embedding vector\n",
        "      # per title.\n",
        "      tf.keras.layers.GlobalAveragePooling1D(),\n",
        "    ])\n",
        "\n",
        "  def call(self, inputs):\n",
        "    return tf.concat([\n",
        "        self.title_embedding(inputs[\"movie_title\"]),\n",
        "        self.title_text_embedding(inputs[\"movie_title\"]),\n",
        "    ], axis=1)"
      ],
      "execution_count": 32,
      "outputs": []
    },
    {
      "cell_type": "code",
      "metadata": {
        "id": "yfhAayIJ2zUn"
      },
      "source": [
        "# # Define user and movie models.\n",
        "# movie_model = MovieModel()\n",
        "# movie_model.title_text_embedding.layers[0].adapt(movies)\n",
        "\n",
        "movie_model = tf.keras.Sequential([\n",
        "  movie_titles_vocabulary,\n",
        "  tf.keras.layers.Embedding(movie_titles_vocabulary.vocab_size() + 1, EMBEDDING_SIZE)\n",
        "])\n",
        "\n",
        "user_model = tf.keras.Sequential([\n",
        "    member_vocabulary,\n",
        "    tf.keras.layers.Embedding(member_vocabulary.vocab_size(), EMBEDDING_SIZE)\n",
        "])"
      ],
      "execution_count": 33,
      "outputs": []
    },
    {
      "cell_type": "code",
      "metadata": {
        "id": "jg1hu-Kg2rKj"
      },
      "source": [
        "class MovielensModel(tfrs.Model):\n",
        "\n",
        "  def __init__(self, user_model, movie_model, rating_weight: float=0.5, retrieval_weight: float=0.5):\n",
        "    super().__init__()\n",
        "    self.movie_model: tf.keras.Model = movie_model\n",
        "    self.user_model: tf.keras.Model = user_model\n",
        "\n",
        "    # A small model to take in user and movie embeddings and predict ratings.\n",
        "    # We can make this as complicated as we want as long as we output a scalar\n",
        "    # as our prediction.\n",
        "    self.rating_model = tf.keras.Sequential([\n",
        "        tf.keras.layers.Dense(32, activation=\"relu\"),\n",
        "        tf.keras.layers.Dense(16, activation=\"relu\"),\n",
        "        tf.keras.layers.Dense(1),\n",
        "    ])\n",
        "\n",
        "    # The tasks.\n",
        "    self.rating_task: tf.keras.layers.Layer = tfrs.tasks.Ranking(\n",
        "        loss=tf.keras.losses.MeanSquaredError(),\n",
        "        metrics=[tf.keras.metrics.RootMeanSquaredError()],\n",
        "    )\n",
        "\n",
        "    self.retrieval_task: tf.keras.layers.Layer = tfrs.tasks.Retrieval(\n",
        "        metrics=tfrs.metrics.FactorizedTopK(\n",
        "            candidates=movies.map(self.movie_model)\n",
        "        )\n",
        "    )\n",
        "\n",
        "    # The loss weights.\n",
        "    self.rating_weight = rating_weight\n",
        "    self.retrieval_weight = retrieval_weight\n",
        "\n",
        "  def call(self, features: Dict[Text, tf.Tensor]) -> tf.Tensor:\n",
        "    # We pick out the user features and pass them into the user model.\n",
        "    user_embeddings = self.user_model(features[\"user_id\"])\n",
        "    # And pick out the movie features and pass them into the movie model.\n",
        "    movie_embeddings = self.movie_model(features[\"movie_title\"])\n",
        "\n",
        "    return (\n",
        "        user_embeddings,\n",
        "        movie_embeddings,\n",
        "        # We apply the multi-layered rating model to a concatentation of\n",
        "        # user and movie embeddings.\n",
        "        self.rating_model(\n",
        "            tf.concat([user_embeddings, movie_embeddings], axis=1)\n",
        "        ),\n",
        "    )\n",
        "\n",
        "  def compute_loss(self, features: Dict[Text, tf.Tensor], training=False) -> tf.Tensor:\n",
        "\n",
        "    ratings = features.pop(\"play_duration\")\n",
        "\n",
        "    user_embeddings, movie_embeddings, rating_predictions = self(features)\n",
        "\n",
        "    # We compute the loss for each task.\n",
        "    rating_loss = self.rating_task(\n",
        "        labels=ratings,\n",
        "        predictions=rating_predictions,\n",
        "    )\n",
        "    retrieval_loss = self.retrieval_task(user_embeddings, movie_embeddings)\n",
        "\n",
        "    # And combine them using the loss weights.\n",
        "    return (self.rating_weight * rating_loss\n",
        "            + self.retrieval_weight * retrieval_loss)"
      ],
      "execution_count": 34,
      "outputs": []
    },
    {
      "cell_type": "code",
      "metadata": {
        "id": "5pJ8kow027M7"
      },
      "source": [
        "# Create a retrieval model.\n",
        "model = MovielensModel(user_model, movie_model, rating_weight=0.3, retrieval_weight=0.7)\n",
        "model.compile(optimizer=tf.keras.optimizers.Adagrad(0.1))"
      ],
      "execution_count": 35,
      "outputs": []
    },
    {
      "cell_type": "code",
      "metadata": {
        "id": "wlKURaK-51HX"
      },
      "source": [
        "from keras.callbacks import ReduceLROnPlateau, EarlyStopping, ModelCheckpoint\n",
        "\n",
        "monitor_metric = \"val_total_loss\"\n",
        "checkpoint_filepath = \"'/content/drive/My Drive/colab/model/tf-rec-sys-steam-multi-task-retrieval\"\n",
        "\n",
        "reduce_lr = ReduceLROnPlateau(monitor=monitor_metric, factor=0.1, verbose=1,\n",
        "                                 patience=2)\n",
        "early_stop = EarlyStopping(monitor=monitor_metric, patience=4,\n",
        "                             verbose=1)\n",
        "model_checkpoint_callback = ModelCheckpoint(\n",
        "    filepath=checkpoint_filepath,\n",
        "    save_weights_only=True,\n",
        "    monitor=monitor_metric,\n",
        "    mode='max',\n",
        "    save_best_only=True)\n",
        "\n",
        "callbacks = [reduce_lr, early_stop, model_checkpoint_callback]"
      ],
      "execution_count": 36,
      "outputs": []
    },
    {
      "cell_type": "code",
      "metadata": {
        "colab": {
          "base_uri": "https://localhost:8080/"
        },
        "id": "0iTZoKAR3RkQ",
        "outputId": "04f06a5b-418c-46de-ebc8-55f28bd3af37"
      },
      "source": [
        "# Train for 3 epochs.\n",
        "model.fit(train_ratings, epochs=100, \n",
        "          validation_data=test_ratings,\n",
        "          callbacks=callbacks)\n",
        "\n",
        "#The model weights (that are considered the best) are loaded into the model.\n",
        "model.load_weights(checkpoint_filepath)"
      ],
      "execution_count": 37,
      "outputs": [
        {
          "output_type": "stream",
          "text": [
            "Epoch 1/100\n",
            "8/8 [==============================] - 5s 555ms/step - root_mean_squared_error: 234.6188 - factorized_top_k/top_1_categorical_accuracy: 9.6667e-04 - factorized_top_k/top_5_categorical_accuracy: 0.0168 - factorized_top_k/top_10_categorical_accuracy: 0.0285 - factorized_top_k/top_50_categorical_accuracy: 0.0694 - factorized_top_k/top_100_categorical_accuracy: 0.0989 - loss: 59830.3876 - regularization_loss: 0.0000e+00 - total_loss: 59830.3876 - val_root_mean_squared_error: 209.0556 - val_factorized_top_k/top_1_categorical_accuracy: 0.0287 - val_factorized_top_k/top_5_categorical_accuracy: 0.0971 - val_factorized_top_k/top_10_categorical_accuracy: 0.1271 - val_factorized_top_k/top_50_categorical_accuracy: 0.2313 - val_factorized_top_k/top_100_categorical_accuracy: 0.2960 - val_loss: 28949.0137 - val_regularization_loss: 0.0000e+00 - val_total_loss: 28949.0137\n",
            "Epoch 2/100\n",
            "8/8 [==============================] - 4s 509ms/step - root_mean_squared_error: 220.6789 - factorized_top_k/top_1_categorical_accuracy: 0.0100 - factorized_top_k/top_5_categorical_accuracy: 0.0672 - factorized_top_k/top_10_categorical_accuracy: 0.0981 - factorized_top_k/top_50_categorical_accuracy: 0.1938 - factorized_top_k/top_100_categorical_accuracy: 0.2599 - loss: 59266.4188 - regularization_loss: 0.0000e+00 - total_loss: 59266.4188 - val_root_mean_squared_error: 226.3968 - val_factorized_top_k/top_1_categorical_accuracy: 0.0337 - val_factorized_top_k/top_5_categorical_accuracy: 0.1067 - val_factorized_top_k/top_10_categorical_accuracy: 0.1377 - val_factorized_top_k/top_50_categorical_accuracy: 0.2735 - val_factorized_top_k/top_100_categorical_accuracy: 0.3532 - val_loss: 7475.7588 - val_regularization_loss: 0.0000e+00 - val_total_loss: 7475.7588\n",
            "Epoch 3/100\n",
            "8/8 [==============================] - 4s 510ms/step - root_mean_squared_error: 218.3042 - factorized_top_k/top_1_categorical_accuracy: 0.0032 - factorized_top_k/top_5_categorical_accuracy: 0.0654 - factorized_top_k/top_10_categorical_accuracy: 0.1216 - factorized_top_k/top_50_categorical_accuracy: 0.2491 - factorized_top_k/top_100_categorical_accuracy: 0.3286 - loss: 56381.4301 - regularization_loss: 0.0000e+00 - total_loss: 56381.4301 - val_root_mean_squared_error: 197.2568 - val_factorized_top_k/top_1_categorical_accuracy: 0.0145 - val_factorized_top_k/top_5_categorical_accuracy: 0.0901 - val_factorized_top_k/top_10_categorical_accuracy: 0.1537 - val_factorized_top_k/top_50_categorical_accuracy: 0.3105 - val_factorized_top_k/top_100_categorical_accuracy: 0.3984 - val_loss: 14223.3262 - val_regularization_loss: 0.0000e+00 - val_total_loss: 14223.3262\n",
            "Epoch 4/100\n",
            "8/8 [==============================] - 4s 522ms/step - root_mean_squared_error: 209.1370 - factorized_top_k/top_1_categorical_accuracy: 0.0036 - factorized_top_k/top_5_categorical_accuracy: 0.0793 - factorized_top_k/top_10_categorical_accuracy: 0.1381 - factorized_top_k/top_50_categorical_accuracy: 0.2844 - factorized_top_k/top_100_categorical_accuracy: 0.3724 - loss: 55259.6215 - regularization_loss: 0.0000e+00 - total_loss: 55259.6215 - val_root_mean_squared_error: 233.2550 - val_factorized_top_k/top_1_categorical_accuracy: 0.0418 - val_factorized_top_k/top_5_categorical_accuracy: 0.1119 - val_factorized_top_k/top_10_categorical_accuracy: 0.1701 - val_factorized_top_k/top_50_categorical_accuracy: 0.3284 - val_factorized_top_k/top_100_categorical_accuracy: 0.4245 - val_loss: 7019.1851 - val_regularization_loss: 0.0000e+00 - val_total_loss: 7019.1851\n",
            "Epoch 5/100\n",
            "8/8 [==============================] - 4s 529ms/step - root_mean_squared_error: 189.0711 - factorized_top_k/top_1_categorical_accuracy: 0.0105 - factorized_top_k/top_5_categorical_accuracy: 0.1031 - factorized_top_k/top_10_categorical_accuracy: 0.1588 - factorized_top_k/top_50_categorical_accuracy: 0.3083 - factorized_top_k/top_100_categorical_accuracy: 0.4013 - loss: 52919.4440 - regularization_loss: 0.0000e+00 - total_loss: 52919.4440 - val_root_mean_squared_error: 186.3281 - val_factorized_top_k/top_1_categorical_accuracy: 0.0550 - val_factorized_top_k/top_5_categorical_accuracy: 0.1364 - val_factorized_top_k/top_10_categorical_accuracy: 0.1848 - val_factorized_top_k/top_50_categorical_accuracy: 0.3405 - val_factorized_top_k/top_100_categorical_accuracy: 0.4376 - val_loss: 13749.0068 - val_regularization_loss: 0.0000e+00 - val_total_loss: 13749.0068\n",
            "Epoch 6/100\n",
            "8/8 [==============================] - 4s 548ms/step - root_mean_squared_error: 174.1628 - factorized_top_k/top_1_categorical_accuracy: 0.0199 - factorized_top_k/top_5_categorical_accuracy: 0.1249 - factorized_top_k/top_10_categorical_accuracy: 0.1762 - factorized_top_k/top_50_categorical_accuracy: 0.3270 - factorized_top_k/top_100_categorical_accuracy: 0.4213 - loss: 49843.7582 - regularization_loss: 0.0000e+00 - total_loss: 49843.7582 - val_root_mean_squared_error: 165.4871 - val_factorized_top_k/top_1_categorical_accuracy: 0.0572 - val_factorized_top_k/top_5_categorical_accuracy: 0.1444 - val_factorized_top_k/top_10_categorical_accuracy: 0.1987 - val_factorized_top_k/top_50_categorical_accuracy: 0.3636 - val_factorized_top_k/top_100_categorical_accuracy: 0.4580 - val_loss: 5521.4785 - val_regularization_loss: 0.0000e+00 - val_total_loss: 5521.4785\n",
            "Epoch 7/100\n",
            "8/8 [==============================] - 4s 535ms/step - root_mean_squared_error: 168.1919 - factorized_top_k/top_1_categorical_accuracy: 0.0178 - factorized_top_k/top_5_categorical_accuracy: 0.1342 - factorized_top_k/top_10_categorical_accuracy: 0.1882 - factorized_top_k/top_50_categorical_accuracy: 0.3426 - factorized_top_k/top_100_categorical_accuracy: 0.4361 - loss: 48663.8477 - regularization_loss: 0.0000e+00 - total_loss: 48663.8477 - val_root_mean_squared_error: 165.2784 - val_factorized_top_k/top_1_categorical_accuracy: 0.0624 - val_factorized_top_k/top_5_categorical_accuracy: 0.1599 - val_factorized_top_k/top_10_categorical_accuracy: 0.2118 - val_factorized_top_k/top_50_categorical_accuracy: 0.3731 - val_factorized_top_k/top_100_categorical_accuracy: 0.4745 - val_loss: 4657.2690 - val_regularization_loss: 0.0000e+00 - val_total_loss: 4657.2690\n",
            "Epoch 8/100\n",
            "8/8 [==============================] - 4s 534ms/step - root_mean_squared_error: 162.9521 - factorized_top_k/top_1_categorical_accuracy: 0.0240 - factorized_top_k/top_5_categorical_accuracy: 0.1435 - factorized_top_k/top_10_categorical_accuracy: 0.1967 - factorized_top_k/top_50_categorical_accuracy: 0.3525 - factorized_top_k/top_100_categorical_accuracy: 0.4478 - loss: 47792.0113 - regularization_loss: 0.0000e+00 - total_loss: 47792.0113 - val_root_mean_squared_error: 139.4694 - val_factorized_top_k/top_1_categorical_accuracy: 0.0666 - val_factorized_top_k/top_5_categorical_accuracy: 0.1598 - val_factorized_top_k/top_10_categorical_accuracy: 0.2162 - val_factorized_top_k/top_50_categorical_accuracy: 0.3770 - val_factorized_top_k/top_100_categorical_accuracy: 0.4735 - val_loss: 4979.3374 - val_regularization_loss: 0.0000e+00 - val_total_loss: 4979.3374\n",
            "Epoch 9/100\n",
            "8/8 [==============================] - 4s 544ms/step - root_mean_squared_error: 154.1349 - factorized_top_k/top_1_categorical_accuracy: 0.0213 - factorized_top_k/top_5_categorical_accuracy: 0.1491 - factorized_top_k/top_10_categorical_accuracy: 0.2030 - factorized_top_k/top_50_categorical_accuracy: 0.3633 - factorized_top_k/top_100_categorical_accuracy: 0.4587 - loss: 47196.4236 - regularization_loss: 0.0000e+00 - total_loss: 47196.4236 - val_root_mean_squared_error: 133.5770 - val_factorized_top_k/top_1_categorical_accuracy: 0.0690 - val_factorized_top_k/top_5_categorical_accuracy: 0.1701 - val_factorized_top_k/top_10_categorical_accuracy: 0.2271 - val_factorized_top_k/top_50_categorical_accuracy: 0.3891 - val_factorized_top_k/top_100_categorical_accuracy: 0.4873 - val_loss: 5219.4326 - val_regularization_loss: 0.0000e+00 - val_total_loss: 5219.4326\n",
            "\n",
            "Epoch 00009: ReduceLROnPlateau reducing learning rate to 0.010000000149011612.\n",
            "Epoch 10/100\n",
            "8/8 [==============================] - 4s 549ms/step - root_mean_squared_error: 151.9185 - factorized_top_k/top_1_categorical_accuracy: 0.0263 - factorized_top_k/top_5_categorical_accuracy: 0.1609 - factorized_top_k/top_10_categorical_accuracy: 0.2194 - factorized_top_k/top_50_categorical_accuracy: 0.3820 - factorized_top_k/top_100_categorical_accuracy: 0.4801 - loss: 46007.0417 - regularization_loss: 0.0000e+00 - total_loss: 46007.0417 - val_root_mean_squared_error: 119.2293 - val_factorized_top_k/top_1_categorical_accuracy: 0.0772 - val_factorized_top_k/top_5_categorical_accuracy: 0.1788 - val_factorized_top_k/top_10_categorical_accuracy: 0.2363 - val_factorized_top_k/top_50_categorical_accuracy: 0.3976 - val_factorized_top_k/top_100_categorical_accuracy: 0.4945 - val_loss: 6729.1069 - val_regularization_loss: 0.0000e+00 - val_total_loss: 6729.1069\n",
            "Epoch 11/100\n",
            "8/8 [==============================] - 4s 539ms/step - root_mean_squared_error: 146.9653 - factorized_top_k/top_1_categorical_accuracy: 0.0280 - factorized_top_k/top_5_categorical_accuracy: 0.1615 - factorized_top_k/top_10_categorical_accuracy: 0.2200 - factorized_top_k/top_50_categorical_accuracy: 0.3842 - factorized_top_k/top_100_categorical_accuracy: 0.4796 - loss: 45806.5590 - regularization_loss: 0.0000e+00 - total_loss: 45806.5590 - val_root_mean_squared_error: 152.8070 - val_factorized_top_k/top_1_categorical_accuracy: 0.0771 - val_factorized_top_k/top_5_categorical_accuracy: 0.1711 - val_factorized_top_k/top_10_categorical_accuracy: 0.2245 - val_factorized_top_k/top_50_categorical_accuracy: 0.3896 - val_factorized_top_k/top_100_categorical_accuracy: 0.4849 - val_loss: 6008.7759 - val_regularization_loss: 0.0000e+00 - val_total_loss: 6008.7759\n",
            "\n",
            "Epoch 00011: ReduceLROnPlateau reducing learning rate to 0.0009999999776482583.\n",
            "Epoch 00011: early stopping\n"
          ],
          "name": "stdout"
        },
        {
          "output_type": "execute_result",
          "data": {
            "text/plain": [
              "<tensorflow.python.training.tracking.util.CheckpointLoadStatus at 0x7fbb678381d0>"
            ]
          },
          "metadata": {
            "tags": []
          },
          "execution_count": 37
        }
      ]
    },
    {
      "cell_type": "code",
      "metadata": {
        "colab": {
          "base_uri": "https://localhost:8080/"
        },
        "id": "UErsqz_CSlSA",
        "outputId": "769cdabf-ce10-4d49-b1c9-689c9feb8e56"
      },
      "source": [
        "metrics = model.evaluate(test_ratings, return_dict=True)\n",
        "\n",
        "print(f\"Retrieval top-100 accuracy: {metrics['factorized_top_k/top_100_categorical_accuracy']:.3f}.\")\n",
        "print(f\"Ranking RMSE: {metrics['root_mean_squared_error']:.3f}.\")"
      ],
      "execution_count": 41,
      "outputs": [
        {
          "output_type": "stream",
          "text": [
            "3/3 [==============================] - 1s 159ms/step - root_mean_squared_error: 204.1421 - factorized_top_k/top_1_categorical_accuracy: 0.0262 - factorized_top_k/top_5_categorical_accuracy: 0.0914 - factorized_top_k/top_10_categorical_accuracy: 0.1220 - factorized_top_k/top_50_categorical_accuracy: 0.2217 - factorized_top_k/top_100_categorical_accuracy: 0.2867 - loss: 26614.7148 - regularization_loss: 0.0000e+00 - total_loss: 26614.7148\n",
            "Retrieval top-100 accuracy: 0.287.\n",
            "Ranking RMSE: 204.142.\n"
          ],
          "name": "stdout"
        }
      ]
    },
    {
      "cell_type": "code",
      "metadata": {
        "colab": {
          "base_uri": "https://localhost:8080/",
          "height": 266
        },
        "id": "MIKivTnjFsNh",
        "outputId": "62b3ff3d-6b1f-49f7-8eea-56b63b7994dd"
      },
      "source": [
        "lookup_user_id = data.sample(n=1).user_id.values[0]\n",
        "data[data[\"user_id\"] == lookup_user_id].sort_values(\"play_duration\", ascending=False).head(7)"
      ],
      "execution_count": 47,
      "outputs": [
        {
          "output_type": "execute_result",
          "data": {
            "text/html": [
              "<div>\n",
              "<style scoped>\n",
              "    .dataframe tbody tr th:only-of-type {\n",
              "        vertical-align: middle;\n",
              "    }\n",
              "\n",
              "    .dataframe tbody tr th {\n",
              "        vertical-align: top;\n",
              "    }\n",
              "\n",
              "    .dataframe thead th {\n",
              "        text-align: right;\n",
              "    }\n",
              "</style>\n",
              "<table border=\"1\" class=\"dataframe\">\n",
              "  <thead>\n",
              "    <tr style=\"text-align: right;\">\n",
              "      <th></th>\n",
              "      <th>user_id</th>\n",
              "      <th>title</th>\n",
              "      <th>play_duration</th>\n",
              "    </tr>\n",
              "  </thead>\n",
              "  <tbody>\n",
              "    <tr>\n",
              "      <th>119034</th>\n",
              "      <td>48798067</td>\n",
              "      <td>Mount &amp; Blade Warband</td>\n",
              "      <td>3178.0</td>\n",
              "    </tr>\n",
              "    <tr>\n",
              "      <th>119036</th>\n",
              "      <td>48798067</td>\n",
              "      <td>Counter-Strike Global Offensive</td>\n",
              "      <td>1302.0</td>\n",
              "    </tr>\n",
              "    <tr>\n",
              "      <th>119038</th>\n",
              "      <td>48798067</td>\n",
              "      <td>Counter-Strike Source</td>\n",
              "      <td>795.0</td>\n",
              "    </tr>\n",
              "    <tr>\n",
              "      <th>119040</th>\n",
              "      <td>48798067</td>\n",
              "      <td>War Thunder</td>\n",
              "      <td>249.0</td>\n",
              "    </tr>\n",
              "    <tr>\n",
              "      <th>119042</th>\n",
              "      <td>48798067</td>\n",
              "      <td>Napoleon Total War</td>\n",
              "      <td>174.0</td>\n",
              "    </tr>\n",
              "    <tr>\n",
              "      <th>119044</th>\n",
              "      <td>48798067</td>\n",
              "      <td>Europa Universalis IV</td>\n",
              "      <td>136.0</td>\n",
              "    </tr>\n",
              "    <tr>\n",
              "      <th>119046</th>\n",
              "      <td>48798067</td>\n",
              "      <td>Call of Duty Modern Warfare 2 - Multiplayer</td>\n",
              "      <td>123.0</td>\n",
              "    </tr>\n",
              "  </tbody>\n",
              "</table>\n",
              "</div>"
            ],
            "text/plain": [
              "         user_id                                        title  play_duration\n",
              "119034  48798067                        Mount & Blade Warband         3178.0\n",
              "119036  48798067              Counter-Strike Global Offensive         1302.0\n",
              "119038  48798067                        Counter-Strike Source          795.0\n",
              "119040  48798067                                  War Thunder          249.0\n",
              "119042  48798067                           Napoleon Total War          174.0\n",
              "119044  48798067                        Europa Universalis IV          136.0\n",
              "119046  48798067  Call of Duty Modern Warfare 2 - Multiplayer          123.0"
            ]
          },
          "metadata": {
            "tags": []
          },
          "execution_count": 47
        }
      ]
    },
    {
      "cell_type": "code",
      "metadata": {
        "id": "9m7V8unu3T2W",
        "colab": {
          "base_uri": "https://localhost:8080/"
        },
        "outputId": "8f8f813b-d48f-4d59-d609-c4a947d3742e"
      },
      "source": [
        "# Use brute-force search to set up retrieval using the trained representations.\n",
        "index = tfrs.layers.factorized_top_k.BruteForce(model.user_model)\n",
        "index.index(movies.map(lambda x: {\"movie_title\": x}).map(model.movie_model), movies)\n",
        "\n",
        "# Get some recommendations.\n",
        "_, titles = index(np.array([\"1\"])) #lookup_user_id]))\n",
        "print(f\"Top 5 recommendations for user {lookup_user_id}\")\n",
        "print(titles[0, :5])"
      ],
      "execution_count": 48,
      "outputs": [
        {
          "output_type": "stream",
          "text": [
            "Top 5 recommendations for user 48798067\n",
            "tf.Tensor(\n",
            "[b'Torchlight II' b'Sanctum 2' b'Tomb Raider' b'PAYDAY The Heist'\n",
            " b'Rogue Legacy'], shape=(5,), dtype=string)\n"
          ],
          "name": "stdout"
        }
      ]
    },
    {
      "cell_type": "code",
      "metadata": {
        "id": "Hc53t3YmDU-h"
      },
      "source": [
        ""
      ],
      "execution_count": 40,
      "outputs": []
    }
  ]
}