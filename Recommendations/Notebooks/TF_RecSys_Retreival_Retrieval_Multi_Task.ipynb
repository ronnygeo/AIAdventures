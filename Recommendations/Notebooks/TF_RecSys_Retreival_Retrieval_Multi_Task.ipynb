{
  "nbformat": 4,
  "nbformat_minor": 0,
  "metadata": {
    "colab": {
      "name": "TF-RecSys-Retreival-Retrieval-Multi Task.ipynb",
      "provenance": [],
      "collapsed_sections": []
    },
    "kernelspec": {
      "name": "python3",
      "display_name": "Python 3"
    },
    "language_info": {
      "name": "python"
    },
    "accelerator": "GPU"
  },
  "cells": [
    {
      "cell_type": "code",
      "metadata": {
        "id": "GJljhKXlz1tU"
      },
      "source": [
        "!pip install -q tensorflow-recommenders"
      ],
      "execution_count": 1,
      "outputs": []
    },
    {
      "cell_type": "code",
      "metadata": {
        "id": "xZRCEV890D0u"
      },
      "source": [
        "from typing import Dict, Text\n",
        "\n",
        "import os\n",
        "import datetime\n",
        "import numpy as np\n",
        "import pandas as pd\n",
        "import tensorflow as tf\n",
        "from tensorflow import keras\n",
        "import tensorflow.keras.layers as L\n",
        "\n",
        "import tensorflow_recommenders as tfrs"
      ],
      "execution_count": 2,
      "outputs": []
    },
    {
      "cell_type": "code",
      "metadata": {
        "colab": {
          "base_uri": "https://localhost:8080/"
        },
        "id": "Wr4p-KLshtfl",
        "outputId": "f721d29d-a4e7-4c30-d9af-9fbdd077b5aa"
      },
      "source": [
        "from google.colab import drive\n",
        "drive.mount('/content/drive')"
      ],
      "execution_count": 3,
      "outputs": [
        {
          "output_type": "stream",
          "text": [
            "Drive already mounted at /content/drive; to attempt to forcibly remount, call drive.mount(\"/content/drive\", force_remount=True).\n"
          ],
          "name": "stdout"
        }
      ]
    },
    {
      "cell_type": "markdown",
      "metadata": {
        "id": "5b1MuBRp7v6m"
      },
      "source": [
        "This steam dataset was obtained from kaggle\n",
        "\n",
        "https://www.kaggle.com/tamber/steam-video-games/version/1"
      ]
    },
    {
      "cell_type": "code",
      "metadata": {
        "colab": {
          "base_uri": "https://localhost:8080/",
          "height": 204
        },
        "id": "eHXDp29ai82e",
        "outputId": "e7072f8d-0da9-4c45-b814-7d17a594ae33"
      },
      "source": [
        "raw_data = pd.read_csv('/content/drive/My Drive/colab/data/steam-200k.csv', header=None).rename({0: \"user_id\", \n",
        "                                                                                             1: \"title\",\n",
        "                                                                                             2: \"action\",\n",
        "                                                                                             3: \"label\"}, axis=1)\n",
        "raw_data.head()"
      ],
      "execution_count": 4,
      "outputs": [
        {
          "output_type": "execute_result",
          "data": {
            "text/html": [
              "<div>\n",
              "<style scoped>\n",
              "    .dataframe tbody tr th:only-of-type {\n",
              "        vertical-align: middle;\n",
              "    }\n",
              "\n",
              "    .dataframe tbody tr th {\n",
              "        vertical-align: top;\n",
              "    }\n",
              "\n",
              "    .dataframe thead th {\n",
              "        text-align: right;\n",
              "    }\n",
              "</style>\n",
              "<table border=\"1\" class=\"dataframe\">\n",
              "  <thead>\n",
              "    <tr style=\"text-align: right;\">\n",
              "      <th></th>\n",
              "      <th>user_id</th>\n",
              "      <th>title</th>\n",
              "      <th>action</th>\n",
              "      <th>label</th>\n",
              "      <th>4</th>\n",
              "    </tr>\n",
              "  </thead>\n",
              "  <tbody>\n",
              "    <tr>\n",
              "      <th>0</th>\n",
              "      <td>151603712</td>\n",
              "      <td>The Elder Scrolls V Skyrim</td>\n",
              "      <td>purchase</td>\n",
              "      <td>1.0</td>\n",
              "      <td>0</td>\n",
              "    </tr>\n",
              "    <tr>\n",
              "      <th>1</th>\n",
              "      <td>151603712</td>\n",
              "      <td>The Elder Scrolls V Skyrim</td>\n",
              "      <td>play</td>\n",
              "      <td>273.0</td>\n",
              "      <td>0</td>\n",
              "    </tr>\n",
              "    <tr>\n",
              "      <th>2</th>\n",
              "      <td>151603712</td>\n",
              "      <td>Fallout 4</td>\n",
              "      <td>purchase</td>\n",
              "      <td>1.0</td>\n",
              "      <td>0</td>\n",
              "    </tr>\n",
              "    <tr>\n",
              "      <th>3</th>\n",
              "      <td>151603712</td>\n",
              "      <td>Fallout 4</td>\n",
              "      <td>play</td>\n",
              "      <td>87.0</td>\n",
              "      <td>0</td>\n",
              "    </tr>\n",
              "    <tr>\n",
              "      <th>4</th>\n",
              "      <td>151603712</td>\n",
              "      <td>Spore</td>\n",
              "      <td>purchase</td>\n",
              "      <td>1.0</td>\n",
              "      <td>0</td>\n",
              "    </tr>\n",
              "  </tbody>\n",
              "</table>\n",
              "</div>"
            ],
            "text/plain": [
              "     user_id                       title    action  label  4\n",
              "0  151603712  The Elder Scrolls V Skyrim  purchase    1.0  0\n",
              "1  151603712  The Elder Scrolls V Skyrim      play  273.0  0\n",
              "2  151603712                   Fallout 4  purchase    1.0  0\n",
              "3  151603712                   Fallout 4      play   87.0  0\n",
              "4  151603712                       Spore  purchase    1.0  0"
            ]
          },
          "metadata": {
            "tags": []
          },
          "execution_count": 4
        }
      ]
    },
    {
      "cell_type": "code",
      "metadata": {
        "colab": {
          "base_uri": "https://localhost:8080/",
          "height": 419
        },
        "id": "6z5r82HfjGvi",
        "outputId": "b8803df4-5c99-4656-f248-083c0c8654db"
      },
      "source": [
        "play_data = raw_data[raw_data[\"action\"] == 'play'][[\"user_id\",\"title\", \"label\"]].drop_duplicates().astype(\"string\").rename({\"label\": \"play_duration\"}, axis=1)\n",
        "play_data[\"play_duration\"] = play_data.play_duration.astype(np.float32)\n",
        "\n",
        "data = play_data.fillna(0.0)\n",
        "data"
      ],
      "execution_count": 5,
      "outputs": [
        {
          "output_type": "execute_result",
          "data": {
            "text/html": [
              "<div>\n",
              "<style scoped>\n",
              "    .dataframe tbody tr th:only-of-type {\n",
              "        vertical-align: middle;\n",
              "    }\n",
              "\n",
              "    .dataframe tbody tr th {\n",
              "        vertical-align: top;\n",
              "    }\n",
              "\n",
              "    .dataframe thead th {\n",
              "        text-align: right;\n",
              "    }\n",
              "</style>\n",
              "<table border=\"1\" class=\"dataframe\">\n",
              "  <thead>\n",
              "    <tr style=\"text-align: right;\">\n",
              "      <th></th>\n",
              "      <th>user_id</th>\n",
              "      <th>title</th>\n",
              "      <th>play_duration</th>\n",
              "    </tr>\n",
              "  </thead>\n",
              "  <tbody>\n",
              "    <tr>\n",
              "      <th>1</th>\n",
              "      <td>151603712</td>\n",
              "      <td>The Elder Scrolls V Skyrim</td>\n",
              "      <td>273.0</td>\n",
              "    </tr>\n",
              "    <tr>\n",
              "      <th>3</th>\n",
              "      <td>151603712</td>\n",
              "      <td>Fallout 4</td>\n",
              "      <td>87.0</td>\n",
              "    </tr>\n",
              "    <tr>\n",
              "      <th>5</th>\n",
              "      <td>151603712</td>\n",
              "      <td>Spore</td>\n",
              "      <td>14.9</td>\n",
              "    </tr>\n",
              "    <tr>\n",
              "      <th>7</th>\n",
              "      <td>151603712</td>\n",
              "      <td>Fallout New Vegas</td>\n",
              "      <td>12.1</td>\n",
              "    </tr>\n",
              "    <tr>\n",
              "      <th>9</th>\n",
              "      <td>151603712</td>\n",
              "      <td>Left 4 Dead 2</td>\n",
              "      <td>8.9</td>\n",
              "    </tr>\n",
              "    <tr>\n",
              "      <th>...</th>\n",
              "      <td>...</td>\n",
              "      <td>...</td>\n",
              "      <td>...</td>\n",
              "    </tr>\n",
              "    <tr>\n",
              "      <th>199991</th>\n",
              "      <td>128470551</td>\n",
              "      <td>Fallen Earth</td>\n",
              "      <td>2.4</td>\n",
              "    </tr>\n",
              "    <tr>\n",
              "      <th>199993</th>\n",
              "      <td>128470551</td>\n",
              "      <td>Magic Duels</td>\n",
              "      <td>2.2</td>\n",
              "    </tr>\n",
              "    <tr>\n",
              "      <th>199995</th>\n",
              "      <td>128470551</td>\n",
              "      <td>Titan Souls</td>\n",
              "      <td>1.5</td>\n",
              "    </tr>\n",
              "    <tr>\n",
              "      <th>199997</th>\n",
              "      <td>128470551</td>\n",
              "      <td>Grand Theft Auto Vice City</td>\n",
              "      <td>1.5</td>\n",
              "    </tr>\n",
              "    <tr>\n",
              "      <th>199999</th>\n",
              "      <td>128470551</td>\n",
              "      <td>RUSH</td>\n",
              "      <td>1.4</td>\n",
              "    </tr>\n",
              "  </tbody>\n",
              "</table>\n",
              "<p>70489 rows × 3 columns</p>\n",
              "</div>"
            ],
            "text/plain": [
              "          user_id                       title  play_duration\n",
              "1       151603712  The Elder Scrolls V Skyrim          273.0\n",
              "3       151603712                   Fallout 4           87.0\n",
              "5       151603712                       Spore           14.9\n",
              "7       151603712           Fallout New Vegas           12.1\n",
              "9       151603712               Left 4 Dead 2            8.9\n",
              "...           ...                         ...            ...\n",
              "199991  128470551                Fallen Earth            2.4\n",
              "199993  128470551                 Magic Duels            2.2\n",
              "199995  128470551                 Titan Souls            1.5\n",
              "199997  128470551  Grand Theft Auto Vice City            1.5\n",
              "199999  128470551                        RUSH            1.4\n",
              "\n",
              "[70489 rows x 3 columns]"
            ]
          },
          "metadata": {
            "tags": []
          },
          "execution_count": 5
        }
      ]
    },
    {
      "cell_type": "code",
      "metadata": {
        "colab": {
          "base_uri": "https://localhost:8080/"
        },
        "id": "EIAwNm3E_MA4",
        "outputId": "02e20588-da38-4984-8c44-23c2d8cc8e85"
      },
      "source": [
        "data.dtypes"
      ],
      "execution_count": 6,
      "outputs": [
        {
          "output_type": "execute_result",
          "data": {
            "text/plain": [
              "user_id           string\n",
              "title             string\n",
              "play_duration    float32\n",
              "dtype: object"
            ]
          },
          "metadata": {
            "tags": []
          },
          "execution_count": 6
        }
      ]
    },
    {
      "cell_type": "code",
      "metadata": {
        "colab": {
          "base_uri": "https://localhost:8080/"
        },
        "id": "sMBlLLbX15Qi",
        "outputId": "1296d725-8d3e-4397-a7bf-db294ea0dbcb"
      },
      "source": [
        "data[(data[\"play_duration\"]== 0.0)].title.value_counts().head(5)"
      ],
      "execution_count": 7,
      "outputs": [
        {
          "output_type": "execute_result",
          "data": {
            "text/plain": [
              "Series([], Name: title, dtype: Int64)"
            ]
          },
          "metadata": {
            "tags": []
          },
          "execution_count": 7
        }
      ]
    },
    {
      "cell_type": "code",
      "metadata": {
        "id": "BK3EofD1SF_f"
      },
      "source": [
        "%load_ext tensorboard"
      ],
      "execution_count": 9,
      "outputs": []
    },
    {
      "cell_type": "code",
      "metadata": {
        "id": "gbqGe7BBQDwJ"
      },
      "source": [
        "%tensorboard --logdir logs"
      ],
      "execution_count": null,
      "outputs": []
    },
    {
      "cell_type": "code",
      "metadata": {
        "id": "Rbb8CsMt2N75",
        "colab": {
          "base_uri": "https://localhost:8080/"
        },
        "outputId": "a57c61b5-b054-4b3e-d14c-2904c7bd2bc7"
      },
      "source": [
        "members = tf.data.Dataset.from_tensors(tf.constant(data.user_id.unique())).map(lambda x: {\"user_id\": x})\n",
        "movies = tf.data.Dataset.from_tensors(tf.constant(data.title.unique())).map(lambda x: {\"movie_title\": x})\n",
        "\n",
        "ratings = (tf.data.Dataset\n",
        "             .from_tensor_slices((tf.cast(data.user_id.values, tf.string), \n",
        "                                  tf.cast(data.title.values, tf.string),\n",
        "                                  tf.cast(data.play_duration.values, tf.float16)))\n",
        "              .map(lambda x1,x2,x3: {\n",
        "                                  \"user_id\": x1,\n",
        "                                  \"movie_title\": x2,\n",
        "                                  \"play_duration\": x3\n",
        "                                }\n",
        "                   )\n",
        "              .shuffle(buffer_size=200000))\n",
        "\n",
        "train_ratings = ratings.take(60000).batch(8000)\n",
        "test_ratings = ratings.skip(60000).batch(5000)\n",
        "\n",
        "for row in test_ratings.batch(1).take(1):\n",
        "  print(row)"
      ],
      "execution_count": 11,
      "outputs": [
        {
          "output_type": "stream",
          "text": [
            "{'user_id': <tf.Tensor: shape=(1, 5000), dtype=string, numpy=\n",
            "array([[b'105877396', b'168881981', b'101725007', ..., b'11403772',\n",
            "        b'129478920', b'118852041']], dtype=object)>, 'movie_title': <tf.Tensor: shape=(1, 5000), dtype=string, numpy=\n",
            "array([[b\"Sid Meier's Civilization III Complete\",\n",
            "        b'Counter-Strike Global Offensive', b'Magicka', ..., b'Firefall',\n",
            "        b'Dota 2', b'H1Z1']], dtype=object)>, 'play_duration': <tf.Tensor: shape=(1, 5000), dtype=float16, numpy=\n",
            "array([[1.280e+01, 1.515e+03, 3.999e-01, ..., 2.100e+00, 1.851e+03,\n",
            "        1.430e+01]], dtype=float16)>}\n"
          ],
          "name": "stdout"
        }
      ]
    },
    {
      "cell_type": "code",
      "metadata": {
        "id": "ZYSRRwrewYU7"
      },
      "source": [
        "EMBEDDING_SIZE = 16\n",
        "MAX_TOKENS = 10_000"
      ],
      "execution_count": 12,
      "outputs": []
    },
    {
      "cell_type": "code",
      "metadata": {
        "id": "rlfcHVTQjTYz",
        "colab": {
          "base_uri": "https://localhost:8080/"
        },
        "outputId": "11ad4dd0-1d58-4ec7-df3c-99f8a80f7a1c"
      },
      "source": [
        "member_vocabulary = L.experimental.preprocessing.StringLookup()\n",
        "member_vocabulary.adapt(members.map(lambda x: x[\"user_id\"]))\n",
        "\n",
        "movie_titles_vocabulary = L.experimental.preprocessing.StringLookup(mask_token=None)\n",
        "movie_titles_vocabulary.adapt(movies.map(lambda x: x[\"movie_title\"]))\n",
        "\n",
        "print(member_vocabulary.get_vocabulary()[:5])\n",
        "print(movie_titles_vocabulary.get_vocabulary()[:5])"
      ],
      "execution_count": 13,
      "outputs": [
        {
          "output_type": "stream",
          "text": [
            "['', '[UNK]', '99992274', '99961115', '99940330']\n",
            "['[UNK]', 'theHunter Primal', 'theHunter', 'the static speaks my name', 'sZone-Online']\n"
          ],
          "name": "stdout"
        }
      ]
    },
    {
      "cell_type": "code",
      "metadata": {
        "id": "BVGG2XNIwO8a"
      },
      "source": [
        "class MovieModel(tf.keras.Model):\n",
        "\n",
        "  def __init__(self, max_tokens=MAX_TOKENS):\n",
        "    super().__init__()\n",
        "\n",
        "    self.title_embedding = tf.keras.Sequential([\n",
        "        movie_titles_vocabulary,\n",
        "        tf.keras.layers.Embedding(movie_titles_vocabulary.vocab_size(), EMBEDDING_SIZE)\n",
        "    ])\n",
        "    self.title_text_embedding = tf.keras.Sequential([\n",
        "      tf.keras.layers.experimental.preprocessing.TextVectorization(max_tokens=max_tokens),\n",
        "      tf.keras.layers.Embedding(max_tokens, EMBEDDING_SIZE, mask_zero=True),\n",
        "      # We average the embedding of individual words to get one embedding vector\n",
        "      # per title.\n",
        "      tf.keras.layers.GlobalAveragePooling1D(),\n",
        "    ])\n",
        "\n",
        "  def call(self, inputs):\n",
        "    return tf.concat([\n",
        "        self.title_embedding(inputs[\"movie_title\"]),\n",
        "        self.title_text_embedding(inputs[\"movie_title\"]),\n",
        "    ], axis=1)"
      ],
      "execution_count": 14,
      "outputs": []
    },
    {
      "cell_type": "code",
      "metadata": {
        "id": "yfhAayIJ2zUn"
      },
      "source": [
        "# # # Define user and movie models.\n",
        "movie_model = MovieModel()\n",
        "movie_model.title_text_embedding.layers[0].adapt(movies.map(lambda x: x[\"movie_title\"]))\n",
        "\n",
        "# movie_model = tf.keras.Sequential([\n",
        "#   movie_titles_vocabulary,\n",
        "#   tf.keras.layers.Embedding(movie_titles_vocabulary.vocab_size() + 1, EMBEDDING_SIZE)\n",
        "# ])\n",
        "\n",
        "user_model = tf.keras.Sequential([\n",
        "    member_vocabulary,\n",
        "    tf.keras.layers.Embedding(member_vocabulary.vocab_size(), EMBEDDING_SIZE * 2)\n",
        "])"
      ],
      "execution_count": 15,
      "outputs": []
    },
    {
      "cell_type": "code",
      "metadata": {
        "id": "jg1hu-Kg2rKj"
      },
      "source": [
        "class MovielensModel(tfrs.Model):\n",
        "\n",
        "  def __init__(self, user_model, movie_model, rating_weight: float=0.5, retrieval_weight: float=0.5):\n",
        "    super().__init__()\n",
        "    self.movie_model: tf.keras.Model = movie_model\n",
        "    self.user_model: tf.keras.Model = user_model\n",
        "\n",
        "    # A small model to take in user and movie embeddings and predict ratings.\n",
        "    # We can make this as complicated as we want as long as we output a scalar\n",
        "    # as our prediction.\n",
        "    self.rating_model = tf.keras.Sequential([\n",
        "        tf.keras.layers.Dense(32, activation=\"relu\"),\n",
        "        tf.keras.layers.Dense(16, activation=\"relu\"),\n",
        "        tf.keras.layers.Dense(1),\n",
        "    ])\n",
        "\n",
        "    # The tasks.\n",
        "    self.rating_task: tf.keras.layers.Layer = tfrs.tasks.Ranking(\n",
        "        loss=tf.keras.losses.MeanSquaredError(),\n",
        "        metrics=[tf.keras.metrics.RootMeanSquaredError()],\n",
        "    )\n",
        "\n",
        "    self.retrieval_task: tf.keras.layers.Layer = tfrs.tasks.Retrieval(\n",
        "        metrics=tfrs.metrics.FactorizedTopK(\n",
        "            candidates=movies.map(self.movie_model)\n",
        "        )\n",
        "    )\n",
        "\n",
        "    # The loss weights.\n",
        "    self.rating_weight = rating_weight\n",
        "    self.retrieval_weight = retrieval_weight\n",
        "\n",
        "  def call(self, features: Dict[Text, tf.Tensor]) -> tf.Tensor:\n",
        "    # We pick out the user features and pass them into the user model.\n",
        "    user_embeddings = self.user_model(features[\"user_id\"])\n",
        "    # And pick out the movie features and pass them into the movie model.\n",
        "    movie_embeddings = self.movie_model(features)\n",
        "\n",
        "    return (\n",
        "        user_embeddings,\n",
        "        movie_embeddings,\n",
        "        # We apply the multi-layered rating model to a concatentation of\n",
        "        # user and movie embeddings.\n",
        "        self.rating_model(\n",
        "            tf.concat([user_embeddings, movie_embeddings], axis=1)\n",
        "        ),\n",
        "    )\n",
        "\n",
        "  def compute_loss(self, features: Dict[Text, tf.Tensor], training=False) -> tf.Tensor:\n",
        "\n",
        "    ratings = features.pop(\"play_duration\")\n",
        "\n",
        "    user_embeddings, movie_embeddings, rating_predictions = self(features)\n",
        "\n",
        "    # We compute the loss for each task.\n",
        "    rating_loss = self.rating_task(\n",
        "        labels=ratings,\n",
        "        predictions=rating_predictions,\n",
        "    )\n",
        "    retrieval_loss = self.retrieval_task(user_embeddings, movie_embeddings)\n",
        "\n",
        "    # And combine them using the loss weights.\n",
        "    return (self.rating_weight * rating_loss\n",
        "            + self.retrieval_weight * retrieval_loss)"
      ],
      "execution_count": 16,
      "outputs": []
    },
    {
      "cell_type": "code",
      "metadata": {
        "id": "5pJ8kow027M7"
      },
      "source": [
        "# Create a retrieval model.\n",
        "model = MovielensModel(user_model, movie_model, rating_weight=0.2, retrieval_weight=0.8)\n",
        "model.compile(optimizer=tf.keras.optimizers.Adagrad(0.1))"
      ],
      "execution_count": 17,
      "outputs": []
    },
    {
      "cell_type": "code",
      "metadata": {
        "id": "wlKURaK-51HX"
      },
      "source": [
        "from keras.callbacks import ReduceLROnPlateau, EarlyStopping, ModelCheckpoint, TensorBoard\n",
        "\n",
        "monitor_metric = \"val_total_loss\"\n",
        "checkpoint_filepath = \"'/content/drive/My Drive/colab/model/tf-rec-sys-steam-multi-task-retrieval\"\n",
        "\n",
        "reduce_lr = ReduceLROnPlateau(monitor=monitor_metric, factor=0.1, verbose=1,\n",
        "                                 patience=2)\n",
        "early_stop = EarlyStopping(monitor=monitor_metric, patience=4,\n",
        "                             verbose=1)\n",
        "model_checkpoint_callback = ModelCheckpoint(\n",
        "    filepath=checkpoint_filepath,\n",
        "    save_weights_only=True,\n",
        "    monitor=monitor_metric,\n",
        "    mode='max',\n",
        "    save_best_only=True)\n",
        "\n",
        "logdir = os.path.join(\"logs\", datetime.datetime.now().strftime(\"%Y%m%d-%H%M%S\"))\n",
        "tensorboard = TensorBoard(logdir)\n",
        "\n",
        "callbacks = [reduce_lr, early_stop, model_checkpoint_callback, tensorboard]"
      ],
      "execution_count": 20,
      "outputs": []
    },
    {
      "cell_type": "code",
      "metadata": {
        "colab": {
          "base_uri": "https://localhost:8080/"
        },
        "id": "0iTZoKAR3RkQ",
        "outputId": "a15e0b83-a9f2-48aa-e573-843be7895630"
      },
      "source": [
        "# Train for 3 epochs.\n",
        "model.fit(train_ratings, epochs=10, \n",
        "          validation_data=test_ratings,\n",
        "          callbacks=callbacks)\n",
        "\n",
        "#The model weights (that are considered the best) are loaded into the model.\n",
        "model.load_weights(checkpoint_filepath)"
      ],
      "execution_count": 21,
      "outputs": [
        {
          "output_type": "stream",
          "text": [
            "Epoch 1/10\n",
            "8/8 [==============================] - 5s 595ms/step - root_mean_squared_error: 221.2896 - factorized_top_k/top_1_categorical_accuracy: 0.0051 - factorized_top_k/top_5_categorical_accuracy: 0.0586 - factorized_top_k/top_10_categorical_accuracy: 0.1057 - factorized_top_k/top_50_categorical_accuracy: 0.2235 - factorized_top_k/top_100_categorical_accuracy: 0.2945 - loss: 59453.0343 - regularization_loss: 0.0000e+00 - total_loss: 59453.0343 - val_root_mean_squared_error: 221.6669 - val_factorized_top_k/top_1_categorical_accuracy: 0.0184 - val_factorized_top_k/top_5_categorical_accuracy: 0.1031 - val_factorized_top_k/top_10_categorical_accuracy: 0.1888 - val_factorized_top_k/top_50_categorical_accuracy: 0.3480 - val_factorized_top_k/top_100_categorical_accuracy: 0.4355 - val_loss: 13455.9980 - val_regularization_loss: 0.0000e+00 - val_total_loss: 13455.9980\n",
            "Epoch 2/10\n",
            "8/8 [==============================] - 4s 519ms/step - root_mean_squared_error: 214.4922 - factorized_top_k/top_1_categorical_accuracy: 0.0036 - factorized_top_k/top_5_categorical_accuracy: 0.0746 - factorized_top_k/top_10_categorical_accuracy: 0.1556 - factorized_top_k/top_50_categorical_accuracy: 0.3094 - factorized_top_k/top_100_categorical_accuracy: 0.3942 - loss: 56538.5221 - regularization_loss: 0.0000e+00 - total_loss: 56538.5221 - val_root_mean_squared_error: 222.9138 - val_factorized_top_k/top_1_categorical_accuracy: 0.0320 - val_factorized_top_k/top_5_categorical_accuracy: 0.1483 - val_factorized_top_k/top_10_categorical_accuracy: 0.2246 - val_factorized_top_k/top_50_categorical_accuracy: 0.4039 - val_factorized_top_k/top_100_categorical_accuracy: 0.4939 - val_loss: 12603.7021 - val_regularization_loss: 0.0000e+00 - val_total_loss: 12603.7021\n",
            "Epoch 3/10\n",
            "8/8 [==============================] - 4s 530ms/step - root_mean_squared_error: 206.2834 - factorized_top_k/top_1_categorical_accuracy: 0.0046 - factorized_top_k/top_5_categorical_accuracy: 0.1298 - factorized_top_k/top_10_categorical_accuracy: 0.1982 - factorized_top_k/top_50_categorical_accuracy: 0.3679 - factorized_top_k/top_100_categorical_accuracy: 0.4587 - loss: 55250.5273 - regularization_loss: 0.0000e+00 - total_loss: 55250.5273 - val_root_mean_squared_error: 216.4675 - val_factorized_top_k/top_1_categorical_accuracy: 0.0719 - val_factorized_top_k/top_5_categorical_accuracy: 0.1884 - val_factorized_top_k/top_10_categorical_accuracy: 0.2532 - val_factorized_top_k/top_50_categorical_accuracy: 0.4338 - val_factorized_top_k/top_100_categorical_accuracy: 0.5300 - val_loss: 7906.4863 - val_regularization_loss: 0.0000e+00 - val_total_loss: 7906.4863\n",
            "Epoch 4/10\n",
            "8/8 [==============================] - 4s 551ms/step - root_mean_squared_error: 192.2782 - factorized_top_k/top_1_categorical_accuracy: 0.0216 - factorized_top_k/top_5_categorical_accuracy: 0.1637 - factorized_top_k/top_10_categorical_accuracy: 0.2291 - factorized_top_k/top_50_categorical_accuracy: 0.4035 - factorized_top_k/top_100_categorical_accuracy: 0.4979 - loss: 53976.2500 - regularization_loss: 0.0000e+00 - total_loss: 53976.2500 - val_root_mean_squared_error: 196.4135 - val_factorized_top_k/top_1_categorical_accuracy: 0.0778 - val_factorized_top_k/top_5_categorical_accuracy: 0.2022 - val_factorized_top_k/top_10_categorical_accuracy: 0.2741 - val_factorized_top_k/top_50_categorical_accuracy: 0.4584 - val_factorized_top_k/top_100_categorical_accuracy: 0.5553 - val_loss: 4043.2480 - val_regularization_loss: 0.0000e+00 - val_total_loss: 4043.2480\n",
            "Epoch 5/10\n",
            "8/8 [==============================] - 4s 544ms/step - root_mean_squared_error: 175.7881 - factorized_top_k/top_1_categorical_accuracy: 0.0252 - factorized_top_k/top_5_categorical_accuracy: 0.1846 - factorized_top_k/top_10_categorical_accuracy: 0.2492 - factorized_top_k/top_50_categorical_accuracy: 0.4301 - factorized_top_k/top_100_categorical_accuracy: 0.5249 - loss: 50609.5473 - regularization_loss: 0.0000e+00 - total_loss: 50609.5473 - val_root_mean_squared_error: 181.9572 - val_factorized_top_k/top_1_categorical_accuracy: 0.0835 - val_factorized_top_k/top_5_categorical_accuracy: 0.2233 - val_factorized_top_k/top_10_categorical_accuracy: 0.2920 - val_factorized_top_k/top_50_categorical_accuracy: 0.4701 - val_factorized_top_k/top_100_categorical_accuracy: 0.5614 - val_loss: 7159.1196 - val_regularization_loss: 0.0000e+00 - val_total_loss: 7159.1196\n",
            "Epoch 6/10\n",
            "8/8 [==============================] - 4s 540ms/step - root_mean_squared_error: 157.1401 - factorized_top_k/top_1_categorical_accuracy: 0.0232 - factorized_top_k/top_5_categorical_accuracy: 0.1981 - factorized_top_k/top_10_categorical_accuracy: 0.2646 - factorized_top_k/top_50_categorical_accuracy: 0.4479 - factorized_top_k/top_100_categorical_accuracy: 0.5448 - loss: 48864.1619 - regularization_loss: 0.0000e+00 - total_loss: 48864.1619 - val_root_mean_squared_error: 144.0008 - val_factorized_top_k/top_1_categorical_accuracy: 0.0917 - val_factorized_top_k/top_5_categorical_accuracy: 0.2351 - val_factorized_top_k/top_10_categorical_accuracy: 0.3048 - val_factorized_top_k/top_50_categorical_accuracy: 0.4916 - val_factorized_top_k/top_100_categorical_accuracy: 0.5882 - val_loss: 6292.5342 - val_regularization_loss: 0.0000e+00 - val_total_loss: 6292.5342\n",
            "\n",
            "Epoch 00006: ReduceLROnPlateau reducing learning rate to 0.010000000149011612.\n",
            "Epoch 7/10\n",
            "8/8 [==============================] - 4s 541ms/step - root_mean_squared_error: 158.5702 - factorized_top_k/top_1_categorical_accuracy: 0.0384 - factorized_top_k/top_5_categorical_accuracy: 0.2213 - factorized_top_k/top_10_categorical_accuracy: 0.2913 - factorized_top_k/top_50_categorical_accuracy: 0.4840 - factorized_top_k/top_100_categorical_accuracy: 0.5803 - loss: 48207.0543 - regularization_loss: 0.0000e+00 - total_loss: 48207.0543 - val_root_mean_squared_error: 176.9381 - val_factorized_top_k/top_1_categorical_accuracy: 0.0897 - val_factorized_top_k/top_5_categorical_accuracy: 0.2305 - val_factorized_top_k/top_10_categorical_accuracy: 0.2978 - val_factorized_top_k/top_50_categorical_accuracy: 0.4840 - val_factorized_top_k/top_100_categorical_accuracy: 0.5781 - val_loss: 5235.4980 - val_regularization_loss: 0.0000e+00 - val_total_loss: 5235.4980\n",
            "Epoch 8/10\n",
            "8/8 [==============================] - 4s 538ms/step - root_mean_squared_error: 153.5504 - factorized_top_k/top_1_categorical_accuracy: 0.0280 - factorized_top_k/top_5_categorical_accuracy: 0.2205 - factorized_top_k/top_10_categorical_accuracy: 0.2913 - factorized_top_k/top_50_categorical_accuracy: 0.4840 - factorized_top_k/top_100_categorical_accuracy: 0.5798 - loss: 47480.2648 - regularization_loss: 0.0000e+00 - total_loss: 47480.2648 - val_root_mean_squared_error: 135.6063 - val_factorized_top_k/top_1_categorical_accuracy: 0.0927 - val_factorized_top_k/top_5_categorical_accuracy: 0.2342 - val_factorized_top_k/top_10_categorical_accuracy: 0.3022 - val_factorized_top_k/top_50_categorical_accuracy: 0.4916 - val_factorized_top_k/top_100_categorical_accuracy: 0.5878 - val_loss: 9604.1064 - val_regularization_loss: 0.0000e+00 - val_total_loss: 9604.1064\n",
            "\n",
            "Epoch 00008: ReduceLROnPlateau reducing learning rate to 0.0009999999776482583.\n",
            "Epoch 00008: early stopping\n"
          ],
          "name": "stdout"
        },
        {
          "output_type": "execute_result",
          "data": {
            "text/plain": [
              "<tensorflow.python.training.tracking.util.CheckpointLoadStatus at 0x7f7a6c05a490>"
            ]
          },
          "metadata": {
            "tags": []
          },
          "execution_count": 21
        }
      ]
    },
    {
      "cell_type": "code",
      "metadata": {
        "colab": {
          "base_uri": "https://localhost:8080/"
        },
        "id": "UErsqz_CSlSA",
        "outputId": "2dca1ef7-c34e-4441-97ac-3d12948de0e3"
      },
      "source": [
        "metrics = model.evaluate(test_ratings, return_dict=True)\n",
        "\n",
        "print(f\"Retrieval top-100 accuracy: {metrics['factorized_top_k/top_100_categorical_accuracy']:.3f}.\")\n",
        "print(f\"Ranking RMSE: {metrics['root_mean_squared_error']:.3f}.\")"
      ],
      "execution_count": 22,
      "outputs": [
        {
          "output_type": "stream",
          "text": [
            "3/3 [==============================] - 1s 180ms/step - root_mean_squared_error: 235.3377 - factorized_top_k/top_1_categorical_accuracy: 0.0183 - factorized_top_k/top_5_categorical_accuracy: 0.1046 - factorized_top_k/top_10_categorical_accuracy: 0.1909 - factorized_top_k/top_50_categorical_accuracy: 0.3410 - factorized_top_k/top_100_categorical_accuracy: 0.4243 - loss: 25965.5645 - regularization_loss: 0.0000e+00 - total_loss: 25965.5645\n",
            "Retrieval top-100 accuracy: 0.424.\n",
            "Ranking RMSE: 235.338.\n"
          ],
          "name": "stdout"
        }
      ]
    },
    {
      "cell_type": "code",
      "metadata": {
        "colab": {
          "base_uri": "https://localhost:8080/",
          "height": 266
        },
        "id": "MIKivTnjFsNh",
        "outputId": "c589938e-0348-4cb2-cbcc-11c36b6f4636"
      },
      "source": [
        "lookup_user_id = data.sample(n=1).user_id.values[0]\n",
        "data[data[\"user_id\"] == lookup_user_id].sort_values(\"play_duration\", ascending=False).head(7)"
      ],
      "execution_count": 23,
      "outputs": [
        {
          "output_type": "execute_result",
          "data": {
            "text/html": [
              "<div>\n",
              "<style scoped>\n",
              "    .dataframe tbody tr th:only-of-type {\n",
              "        vertical-align: middle;\n",
              "    }\n",
              "\n",
              "    .dataframe tbody tr th {\n",
              "        vertical-align: top;\n",
              "    }\n",
              "\n",
              "    .dataframe thead th {\n",
              "        text-align: right;\n",
              "    }\n",
              "</style>\n",
              "<table border=\"1\" class=\"dataframe\">\n",
              "  <thead>\n",
              "    <tr style=\"text-align: right;\">\n",
              "      <th></th>\n",
              "      <th>user_id</th>\n",
              "      <th>title</th>\n",
              "      <th>play_duration</th>\n",
              "    </tr>\n",
              "  </thead>\n",
              "  <tbody>\n",
              "    <tr>\n",
              "      <th>111469</th>\n",
              "      <td>121133260</td>\n",
              "      <td>Call of Duty Black Ops III</td>\n",
              "      <td>91.0</td>\n",
              "    </tr>\n",
              "    <tr>\n",
              "      <th>111471</th>\n",
              "      <td>121133260</td>\n",
              "      <td>Call of Duty Black Ops - Multiplayer</td>\n",
              "      <td>13.4</td>\n",
              "    </tr>\n",
              "    <tr>\n",
              "      <th>111473</th>\n",
              "      <td>121133260</td>\n",
              "      <td>The Elder Scrolls V Skyrim</td>\n",
              "      <td>7.9</td>\n",
              "    </tr>\n",
              "    <tr>\n",
              "      <th>111475</th>\n",
              "      <td>121133260</td>\n",
              "      <td>Call of Duty Black Ops</td>\n",
              "      <td>7.4</td>\n",
              "    </tr>\n",
              "    <tr>\n",
              "      <th>111477</th>\n",
              "      <td>121133260</td>\n",
              "      <td>Call of Duty World at War</td>\n",
              "      <td>5.4</td>\n",
              "    </tr>\n",
              "    <tr>\n",
              "      <th>111479</th>\n",
              "      <td>121133260</td>\n",
              "      <td>No More Room in Hell</td>\n",
              "      <td>0.3</td>\n",
              "    </tr>\n",
              "    <tr>\n",
              "      <th>111481</th>\n",
              "      <td>121133260</td>\n",
              "      <td>sZone-Online</td>\n",
              "      <td>0.2</td>\n",
              "    </tr>\n",
              "  </tbody>\n",
              "</table>\n",
              "</div>"
            ],
            "text/plain": [
              "          user_id                                 title  play_duration\n",
              "111469  121133260            Call of Duty Black Ops III           91.0\n",
              "111471  121133260  Call of Duty Black Ops - Multiplayer           13.4\n",
              "111473  121133260            The Elder Scrolls V Skyrim            7.9\n",
              "111475  121133260                Call of Duty Black Ops            7.4\n",
              "111477  121133260             Call of Duty World at War            5.4\n",
              "111479  121133260                  No More Room in Hell            0.3\n",
              "111481  121133260                          sZone-Online            0.2"
            ]
          },
          "metadata": {
            "tags": []
          },
          "execution_count": 23
        }
      ]
    },
    {
      "cell_type": "code",
      "metadata": {
        "id": "9m7V8unu3T2W",
        "colab": {
          "base_uri": "https://localhost:8080/"
        },
        "outputId": "0a77a0c0-1fb6-475b-8b03-421f7d88d883"
      },
      "source": [
        "# Use brute-force search to set up retrieval using the trained representations.\n",
        "index = tfrs.layers.factorized_top_k.BruteForce(model.user_model)\n",
        "index.index(movies.map(model.movie_model), movies.map(lambda x: x[\"movie_title\"]))\n",
        "\n",
        "# Get some recommendations.\n",
        "_, titles = index(np.array([lookup_user_id]))\n",
        "print(f\"Top 5 recommendations for user {lookup_user_id}\")\n",
        "print(titles[0, :5])"
      ],
      "execution_count": 35,
      "outputs": [
        {
          "output_type": "stream",
          "text": [
            "Top 5 recommendations for user 121133260\n",
            "tf.Tensor(\n",
            "[b'Call of Duty Black Ops' b'sZone-Online'\n",
            " b'Call of Duty Black Ops - Multiplayer' b'Warface' b'BLOCKADE 3D'], shape=(5,), dtype=string)\n"
          ],
          "name": "stdout"
        }
      ]
    },
    {
      "cell_type": "code",
      "metadata": {
        "id": "xgR-6eMXTaeO"
      },
      "source": [
        ""
      ],
      "execution_count": null,
      "outputs": []
    },
    {
      "cell_type": "code",
      "metadata": {
        "id": "Hc53t3YmDU-h"
      },
      "source": [
        ""
      ],
      "execution_count": null,
      "outputs": []
    }
  ]
}