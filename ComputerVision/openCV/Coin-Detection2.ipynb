{
 "cells": [
  {
   "cell_type": "markdown",
   "source": [
    "# Coin Detection"
   ],
   "metadata": {
    "collapsed": false
   }
  },
  {
   "cell_type": "code",
   "execution_count": null,
   "outputs": [],
   "source": [
    "import cv2\n",
    "import matplotlib.pyplot as plt\n",
    "import numpy as np\n",
    "%matplotlib inline"
   ],
   "metadata": {
    "collapsed": false,
    "pycharm": {
     "name": "#%%\n"
    }
   }
  },
  {
   "cell_type": "code",
   "execution_count": null,
   "outputs": [],
   "source": [
    "import matplotlib\n",
    "matplotlib.rcParams['figure.figsize'] = (10.0, 10.0)\n",
    "matplotlib.rcParams['image.cmap'] = 'gray'"
   ],
   "metadata": {
    "collapsed": false,
    "pycharm": {
     "name": "#%%\n"
    }
   }
  },
  {
   "cell_type": "code",
   "execution_count": null,
   "outputs": [],
   "source": [
    "# Image path\n",
    "imagePath = \"images/CoinsA.png\"\n",
    "# Read image\n",
    "# Store it in the variable image\n",
    "\n",
    "image = cv2.imread(imagePath, cv2.IMREAD_COLOR)\n",
    "imageCopy = image.copy()\n",
    "plt.imshow(image[:,:,::-1]);\n",
    "plt.title(\"Original Image\")"
   ],
   "metadata": {
    "collapsed": false,
    "pycharm": {
     "name": "#%%\n"
    }
   }
  },
  {
   "cell_type": "markdown",
   "source": [
    "## <font style = \"color:rgb(50,120,229)\">Step 2.1: Convert Image to Grayscale</font>"
   ],
   "metadata": {
    "collapsed": false
   }
  },
  {
   "cell_type": "code",
   "execution_count": null,
   "outputs": [],
   "source": [
    "# Convert image to grayscale\n",
    "# Store it in the variable imageGray\n",
    "\n",
    "imageGray = cv2.cvtColor(image, cv2.COLOR_RGB2GRAY)"
   ],
   "metadata": {
    "collapsed": false,
    "pycharm": {
     "name": "#%%\n"
    }
   }
  },
  {
   "cell_type": "code",
   "execution_count": null,
   "outputs": [],
   "source": [
    "plt.figure(figsize=(12,12))\n",
    "plt.subplot(121)\n",
    "plt.imshow(image[:,:,::-1]);\n",
    "plt.title(\"Original Image\")\n",
    "plt.subplot(122)\n",
    "plt.imshow(imageGray);\n",
    "plt.title(\"Grayscale Image\");"
   ],
   "metadata": {
    "collapsed": false,
    "pycharm": {
     "name": "#%%\n"
    }
   }
  },
  {
   "cell_type": "markdown",
   "source": [
    "## <font style = \"color:rgb(50,120,229)\">Step 2.2: Split Image into R,G,B Channels</font>"
   ],
   "metadata": {
    "collapsed": false
   }
  },
  {
   "cell_type": "code",
   "execution_count": null,
   "outputs": [],
   "source": [
    "# Split cell into channels\n",
    "# Store them in variables imageB, imageG, imageR\n",
    "\n",
    "imageB, imageG, imageR = cv2.split(image)"
   ],
   "metadata": {
    "collapsed": false,
    "pycharm": {
     "name": "#%%\n"
    }
   }
  },
  {
   "cell_type": "code",
   "execution_count": null,
   "outputs": [],
   "source": [
    "plt.figure(figsize=(20,12))\n",
    "plt.subplot(141)\n",
    "plt.imshow(image[:,:,::-1]);\n",
    "plt.title(\"Original Image\")\n",
    "plt.subplot(142)\n",
    "plt.imshow(imageB);\n",
    "plt.title(\"Blue Channel\")\n",
    "plt.subplot(143)\n",
    "plt.imshow(imageG);\n",
    "plt.title(\"Green Channel\")\n",
    "plt.subplot(144)\n",
    "plt.imshow(imageR);\n",
    "plt.title(\"Red Channel\");"
   ],
   "metadata": {
    "collapsed": false,
    "pycharm": {
     "name": "#%%\n"
    }
   }
  },
  {
   "cell_type": "markdown",
   "source": [
    "## <font style = \"color:rgb(50,120,229)\">Step 3.1: Perform Thresholding</font>"
   ],
   "metadata": {
    "collapsed": false
   }
  },
  {
   "cell_type": "code",
   "execution_count": null,
   "outputs": [],
   "source": [
    "\n",
    "_, imageBThres = cv2.threshold(imageB, 55, 255, cv2.THRESH_BINARY_INV)\n",
    "_, imageGThres = cv2.threshold(imageG, 55, 255, cv2.THRESH_BINARY_INV)\n",
    "_, imageRThres = cv2.threshold(imageR, 55, 255, cv2.THRESH_BINARY_INV)\n",
    "\n",
    "plt.subplot(131); plt.title(\"Thresholded B channel\"); plt.imshow(imageBThres)\n",
    "plt.subplot(132); plt.title(\"Thresholded G channel\"); plt.imshow(imageGThres)\n",
    "plt.subplot(133); plt.title(\"Thresholded R channel\"); plt.imshow(imageRThres)\n",
    "\n",
    "# setting thres image to green channel as it has the best contrast\n",
    "imageThres = imageGThres"
   ],
   "metadata": {
    "collapsed": false,
    "pycharm": {
     "name": "#%%\n"
    }
   }
  },
  {
   "cell_type": "code",
   "execution_count": null,
   "outputs": [],
   "source": [
    "# Display the thresholded image\n",
    "\n",
    "plt.title(\"Final thresholded image\")\n",
    "plt.imshow(imageThres)"
   ],
   "metadata": {
    "collapsed": false,
    "pycharm": {
     "name": "#%%\n"
    }
   }
  },
  {
   "cell_type": "markdown",
   "source": [
    "## <font style = \"color:rgb(50,120,229)\">Step 3.2: Perform morphological operations</font>"
   ],
   "metadata": {
    "collapsed": false
   }
  },
  {
   "cell_type": "code",
   "execution_count": null,
   "outputs": [],
   "source": [
    "\n",
    "element = cv2.getStructuringElement(cv2.MORPH_ELLIPSE, (2, 2))\n",
    "\n",
    "imageMorph = cv2.morphologyEx(imageThres, cv2.MORPH_OPEN, element, iterations=2)\n",
    "plt.title(\"Image after opening\")\n",
    "plt.imshow(imageMorph)"
   ],
   "metadata": {
    "collapsed": false,
    "pycharm": {
     "name": "#%%\n"
    }
   }
  },
  {
   "cell_type": "code",
   "execution_count": null,
   "outputs": [],
   "source": [
    "\n",
    "# imageMorph = cv2.dilate(imageMorph, element, iterations=2)\n",
    "# imageMorph = cv2.erode(imageMorph, element, iterations=2)\n",
    "\n",
    "imageMorph = cv2.morphologyEx(imageThres, cv2.MORPH_CLOSE, element, iterations=2)\n",
    "plt.title(\"Image after closing\")\n",
    "plt.imshow(imageMorph)"
   ],
   "metadata": {
    "collapsed": false,
    "pycharm": {
     "name": "#%%\n"
    }
   }
  },
  {
   "cell_type": "code",
   "execution_count": null,
   "outputs": [],
   "source": [
    "# Display all the images\n",
    "# you have obtained in the intermediate steps\n",
    "\n",
    "imageMorph = cv2.morphologyEx(imageMorph, cv2.MORPH_OPEN, element, iterations=3)\n",
    "plt.title(\"Image after opening again\")\n",
    "plt.imshow(imageMorph)"
   ],
   "metadata": {
    "collapsed": false,
    "pycharm": {
     "name": "#%%\n"
    }
   }
  },
  {
   "cell_type": "code",
   "execution_count": null,
   "outputs": [],
   "source": [
    "# Get structuring element/kernel which will be used for dilation\n",
    "\n",
    "element2 = cv2.getStructuringElement(cv2.MORPH_ELLIPSE, (2, 2))\n",
    "element3 = cv2.getStructuringElement(cv2.MORPH_ELLIPSE, (3, 3))\n"
   ],
   "metadata": {
    "collapsed": false,
    "pycharm": {
     "name": "#%%\n"
    }
   }
  },
  {
   "cell_type": "code",
   "execution_count": null,
   "outputs": [],
   "source": [
    "\n",
    "imageMorph = imageThres.copy()\n",
    "\n",
    "imageMorph = cv2.morphologyEx(imageMorph, cv2.MORPH_OPEN, element2, iterations=2)\n",
    "imageMorph = cv2.dilate(imageMorph, element2, iterations=1)\n",
    "imageMorph = cv2.morphologyEx(imageMorph, cv2.MORPH_CLOSE, element2, iterations=3)\n",
    "imageMorph = cv2.erode(imageMorph, element2, iterations=1)\n",
    "plt.title(\"Image after series of morph operations\")\n",
    "plt.imshow(imageMorph)"
   ],
   "metadata": {
    "collapsed": false,
    "pycharm": {
     "name": "#%%\n"
    }
   }
  },
  {
   "cell_type": "code",
   "execution_count": null,
   "outputs": [],
   "source": [
    "_, imageMorphInv = cv2.threshold(imageMorph, 100, 255, cv2.THRESH_BINARY_INV)\n",
    "plt.imshow(imageMorphInv)"
   ],
   "metadata": {
    "collapsed": false,
    "pycharm": {
     "name": "#%%\n"
    }
   }
  },
  {
   "cell_type": "markdown",
   "source": [
    "## <font style = \"color:rgb(50,120,229)\">Step 4.1: Create SimpleBlobDetector</font>"
   ],
   "metadata": {
    "collapsed": false
   }
  },
  {
   "cell_type": "code",
   "execution_count": null,
   "outputs": [],
   "source": [
    "# Set up the SimpleBlobdetector with default parameters.\n",
    "params = cv2.SimpleBlobDetector_Params()\n",
    "\n",
    "params.blobColor = 0\n",
    "\n",
    "params.minDistBetweenBlobs = 2\n",
    "\n",
    "# Filter by Area.\n",
    "params.filterByArea = False\n",
    "\n",
    "# Filter by Circularity\n",
    "params.filterByCircularity = True\n",
    "params.minCircularity = 0.8\n",
    "\n",
    "# Filter by Convexity\n",
    "params.filterByConvexity = True\n",
    "params.minConvexity = 0.8\n",
    "\n",
    "# Filter by Inertia\n",
    "params.filterByInertia =True\n",
    "params.minInertiaRatio = 0.8"
   ],
   "metadata": {
    "collapsed": false,
    "pycharm": {
     "name": "#%%\n"
    }
   }
  },
  {
   "cell_type": "code",
   "execution_count": null,
   "outputs": [],
   "source": [
    "# Create SimpleBlobDetector\n",
    "detector = cv2.SimpleBlobDetector_create(params)"
   ],
   "metadata": {
    "collapsed": false,
    "pycharm": {
     "name": "#%%\n"
    }
   }
  },
  {
   "cell_type": "markdown",
   "source": [
    "## <font style = \"color:rgb(50,120,229)\">Step 4.2: Detect Coins</font>"
   ],
   "metadata": {
    "collapsed": false
   }
  },
  {
   "cell_type": "code",
   "execution_count": null,
   "outputs": [],
   "source": [
    "# Detect blobs\n",
    "\n",
    "keypoints = detector.detect(imageMorph)"
   ],
   "metadata": {
    "collapsed": false,
    "pycharm": {
     "name": "#%%\n"
    }
   }
  },
  {
   "cell_type": "code",
   "execution_count": null,
   "outputs": [],
   "source": [
    "# Print number of coins detected\n",
    "\n",
    "print(f\"Number of blobs detected: {len(keypoints)}\")"
   ],
   "metadata": {
    "collapsed": false,
    "pycharm": {
     "name": "#%%\n"
    }
   }
  },
  {
   "cell_type": "markdown",
   "source": [
    "**Note that we were able to detect all 9 coins. So, that's your benchmark.**"
   ],
   "metadata": {
    "collapsed": false
   }
  },
  {
   "cell_type": "code",
   "execution_count": null,
   "outputs": [],
   "source": [
    "# Mark coins using image annotation concepts we have studied so far\n",
    "\n",
    "im = image.copy()\n",
    "\n",
    "for k in keypoints:\n",
    "    x, y = k.pt\n",
    "    x = int(x)\n",
    "    y = int(y)\n",
    "    r = int(k.size // 2)\n",
    "    cv2.circle(im, (x, y), 2, (255, 0, 0), -1)\n",
    "    cv2.circle(im, (x, y), r, (0, 255, 0), 2)"
   ],
   "metadata": {
    "collapsed": false,
    "pycharm": {
     "name": "#%%\n"
    }
   }
  },
  {
   "cell_type": "code",
   "execution_count": null,
   "outputs": [],
   "source": [
    "# Display the final image\n",
    "\n",
    "\n",
    "plt.imshow(im[..., ::-1])"
   ],
   "metadata": {
    "collapsed": false,
    "pycharm": {
     "name": "#%%\n"
    }
   }
  },
  {
   "cell_type": "markdown",
   "source": [
    "## <font style = \"color:rgb(50,120,229)\">Step 4.4: Perform Connected Component Analysis</font>"
   ],
   "metadata": {
    "collapsed": false
   }
  },
  {
   "cell_type": "code",
   "execution_count": null,
   "outputs": [],
   "source": [
    "def displayConnectedComponents(im):\n",
    "    imLabels = im\n",
    "    # The following line finds the min and max pixel values\n",
    "    # and their locations in an image.\n",
    "    (minVal, maxVal, minLoc, maxLoc) = cv2.minMaxLoc(imLabels)\n",
    "    # Normalize the image so the min value is 0 and max value is 255.\n",
    "    imLabels = 255 * (imLabels - minVal)/(maxVal-minVal)\n",
    "    # Convert image to 8-bits unsigned type\n",
    "    imLabels = np.uint8(imLabels)\n",
    "    # Apply a color map\n",
    "    imColorMap = cv2.applyColorMap(imLabels, cv2.COLORMAP_JET)\n",
    "    # Display colormapped labels\n",
    "    plt.imshow(imColorMap[:,:,::-1])"
   ],
   "metadata": {
    "collapsed": false,
    "pycharm": {
     "name": "#%%\n"
    }
   }
  },
  {
   "cell_type": "code",
   "execution_count": null,
   "outputs": [],
   "source": [
    "# Find connected components\n",
    "\n",
    "_, imComponents = cv2.connectedComponents(imageMorphInv)"
   ],
   "metadata": {
    "collapsed": false,
    "pycharm": {
     "name": "#%%\n"
    }
   }
  },
  {
   "cell_type": "code",
   "execution_count": null,
   "outputs": [],
   "source": [
    "# Print number of connected components detected\n",
    "\n",
    "print(f\"Number of connected components detected = {imComponents.max()}\")"
   ],
   "metadata": {
    "collapsed": false,
    "pycharm": {
     "name": "#%%\n"
    }
   }
  },
  {
   "cell_type": "code",
   "execution_count": null,
   "outputs": [],
   "source": [
    "# Display connected components using displayConnectedComponents\n",
    "# function\n",
    "\n",
    "displayConnectedComponents(imComponents)"
   ],
   "metadata": {
    "collapsed": false,
    "pycharm": {
     "name": "#%%\n"
    }
   }
  },
  {
   "cell_type": "markdown",
   "source": [
    "## <font style = \"color:rgb(50,120,229)\">Step 4.5: Detect coins using Contour Detection</font>"
   ],
   "metadata": {
    "collapsed": false
   }
  },
  {
   "cell_type": "code",
   "execution_count": null,
   "outputs": [],
   "source": [
    "# Find all contours in the image\n",
    "\n",
    "contours, hierarchy = cv2.findContours(imageMorph, cv2.RETR_CCOMP, cv2.CHAIN_APPROX_SIMPLE)"
   ],
   "metadata": {
    "collapsed": false,
    "pycharm": {
     "name": "#%%\n"
    }
   }
  },
  {
   "cell_type": "code",
   "execution_count": null,
   "outputs": [],
   "source": [
    "# Print the number of contours found\n",
    "\n",
    "print(f\"Number of contours found = {len(contours)}\")"
   ],
   "metadata": {
    "collapsed": false,
    "pycharm": {
     "name": "#%%\n"
    }
   }
  },
  {
   "cell_type": "code",
   "execution_count": null,
   "outputs": [],
   "source": [
    "# Draw all contours\n",
    "\n",
    "im2 = image.copy()\n",
    "cv2.drawContours(im2, contours, -1, (0,255,255), 3, hierarchy=hierarchy)\n",
    "plt.title(\"Image with all contours\")\n",
    "plt.imshow(im2[..., ::-1])"
   ],
   "metadata": {
    "collapsed": false,
    "pycharm": {
     "name": "#%%\n"
    }
   }
  },
  {
   "cell_type": "markdown",
   "source": [
    "Let's only consider the outer contours."
   ],
   "metadata": {
    "collapsed": false
   }
  },
  {
   "cell_type": "code",
   "execution_count": null,
   "outputs": [],
   "source": [
    "# Remove the inner contours\n",
    "# Display the result\n",
    "\n",
    "ext_contours = [contours[i] for i, h in enumerate(hierarchy[0]) if h[3] == -1]\n",
    "print(f\"Number of outer contours {len(ext_contours)}\")"
   ],
   "metadata": {
    "collapsed": false,
    "pycharm": {
     "name": "#%%\n"
    }
   }
  },
  {
   "cell_type": "markdown",
   "source": [
    "So, we only need the inner contours. The easiest way to do that will be to remove the outer contour using area."
   ],
   "metadata": {
    "collapsed": false
   }
  },
  {
   "cell_type": "code",
   "execution_count": null,
   "outputs": [],
   "source": [
    "# Print area and perimeter of all contours\n",
    "\n",
    "areas = []\n",
    "for i, c in enumerate(contours):\n",
    "    area = cv2.contourArea(c)\n",
    "    areas.append(area)\n",
    "    print(f\"Contour #{i+1}  has area {area} and perimeter = {cv2.arcLength(c, True)}\")"
   ],
   "metadata": {
    "collapsed": false,
    "pycharm": {
     "name": "#%%\n"
    }
   }
  },
  {
   "cell_type": "code",
   "execution_count": null,
   "outputs": [],
   "source": [
    "# Print maximum area of contour\n",
    "# This will be the box that we want to remove\n",
    "\n",
    "print(f\"Maximum area of the contour is {max(areas)}\")"
   ],
   "metadata": {
    "collapsed": false,
    "pycharm": {
     "name": "#%%\n"
    }
   }
  },
  {
   "cell_type": "code",
   "execution_count": null,
   "outputs": [],
   "source": [
    "# Remove this contour and plot others\n",
    "\n",
    "int_contours = contours[1:]\n",
    "im3 = image.copy()\n",
    "cv2.drawContours(im3, int_contours, -1, (0,255,255), 3)\n",
    "plt.title(\"Image with contours\")\n",
    "plt.imshow(im3[..., ::-1])"
   ],
   "metadata": {
    "collapsed": false,
    "pycharm": {
     "name": "#%%\n"
    }
   }
  },
  {
   "cell_type": "code",
   "execution_count": null,
   "outputs": [],
   "source": [
    "# Fit circles on coins\n",
    "\n",
    "im4 = image.copy()\n",
    "\n",
    "for c in int_contours:\n",
    "    center, radius = cv2.minEnclosingCircle(c)\n",
    "    \n",
    "    cv2.circle(im4, (int(center[0]),int(center[1])), int(radius), (255, 255, 0), 3)\n",
    "\n",
    "plt.title(\"Image with enclosing circles\")\n",
    "plt.imshow(im4[..., ::-1])\n"
   ],
   "metadata": {
    "collapsed": false,
    "pycharm": {
     "name": "#%%\n"
    }
   }
  }
 ],
 "metadata": {
  "kernelspec": {
   "display_name": "Python 3",
   "language": "python",
   "name": "python3"
  },
  "language_info": {
   "codemirror_mode": {
    "name": "ipython",
    "version": 3
   },
   "file_extension": ".py",
   "mimetype": "text/x-python",
   "name": "python",
   "nbconvert_exporter": "python",
   "pygments_lexer": "ipython3",
   "version": "3.7.3"
  }
 },
 "nbformat": 4,
 "nbformat_minor": 4
}